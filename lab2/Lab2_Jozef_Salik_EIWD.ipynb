{
 "cells": [
  {
   "cell_type": "code",
   "execution_count": 1,
   "metadata": {
    "executionInfo": {
     "elapsed": 470,
     "status": "ok",
     "timestamp": 1634366947862,
     "user": {
      "displayName": "",
      "photoUrl": "",
      "userId": ""
     },
     "user_tz": -120
    },
    "id": "0qOdGSg_2KdD",
    "jupyter": {
     "outputs_hidden": false
    }
   },
   "outputs": [],
   "source": [
    "%matplotlib inline\n",
    "\n",
    "import matplotlib.pyplot as plt"
   ]
  },
  {
   "cell_type": "code",
   "execution_count": 4,
   "metadata": {
    "executionInfo": {
     "elapsed": 273,
     "status": "ok",
     "timestamp": 1634366955171,
     "user": {
      "displayName": "",
      "photoUrl": "",
      "userId": ""
     },
     "user_tz": -120
    },
    "id": "ectwKF6R2KdG",
    "jupyter": {
     "outputs_hidden": false
    }
   },
   "outputs": [],
   "source": [
    "import numpy as np #import biblioteki numpy"
   ]
  },
  {
   "cell_type": "code",
   "execution_count": 5,
   "metadata": {
    "executionInfo": {
     "elapsed": 423,
     "status": "ok",
     "timestamp": 1634366959061,
     "user": {
      "displayName": "",
      "photoUrl": "",
      "userId": ""
     },
     "user_tz": -120
    },
    "id": "NnkRGBay2KdH",
    "jupyter": {
     "outputs_hidden": false
    }
   },
   "outputs": [
    {
     "data": {
      "text/plain": [
       "array([0, 1, 2, 3, 4, 5, 6, 7, 8, 9])"
      ]
     },
     "execution_count": 5,
     "metadata": {},
     "output_type": "execute_result"
    }
   ],
   "source": [
    "data = np.arange(10) #Stworzenie tablicy z 10 pkt\n",
    "data"
   ]
  },
  {
   "cell_type": "code",
   "execution_count": 6,
   "metadata": {
    "colab": {
     "base_uri": "https://localhost:8080/",
     "height": 283
    },
    "executionInfo": {
     "elapsed": 300,
     "status": "ok",
     "timestamp": 1634366963842,
     "user": {
      "displayName": "",
      "photoUrl": "",
      "userId": ""
     },
     "user_tz": -120
    },
    "id": "29GdC4D_2KdJ",
    "jupyter": {
     "outputs_hidden": false
    },
    "outputId": "69d97ef4-79bb-43eb-db59-decbd526012b"
   },
   "outputs": [
    {
     "data": {
      "text/plain": [
       "[<matplotlib.lines.Line2D at 0x1c86ef97430>]"
      ]
     },
     "execution_count": 6,
     "metadata": {},
     "output_type": "execute_result"
    },
    {
     "data": {
      "image/png": "[encoded data removed]",
      "text/plain": [
       "<Figure size 432x288 with 1 Axes>"
      ]
     },
     "metadata": {
      "needs_background": "light"
     },
     "output_type": "display_data"
    }
   ],
   "source": [
    "plt.plot(data) #Stworzenie wykresu liniowego"
   ]
  },
  {
   "cell_type": "markdown",
   "metadata": {
    "id": "yFz4PYxX2KdK"
   },
   "source": [
    "# Rysunki i wykresy pomocnicze"
   ]
  },
  {
   "cell_type": "code",
   "execution_count": 10,
   "metadata": {
    "colab": {
     "base_uri": "https://localhost:8080/",
     "height": 35
    },
    "executionInfo": {
     "elapsed": 284,
     "status": "ok",
     "timestamp": 1634366974069,
     "user": {
      "displayName": "",
      "photoUrl": "",
      "userId": ""
     },
     "user_tz": -120
    },
    "id": "vzTJBDNb2KdL",
    "jupyter": {
     "outputs_hidden": false
    },
    "outputId": "1a4450e1-9e9a-471d-80b3-f4fc3bf254f2"
   },
   "outputs": [
    {
     "data": {
      "text/plain": [
       "<Figure size 432x288 with 0 Axes>"
      ]
     },
     "metadata": {},
     "output_type": "display_data"
    }
   ],
   "source": [
    "fig = plt.figure() #utworzenie obiektu Figure"
   ]
  },
  {
   "cell_type": "code",
   "execution_count": 11,
   "metadata": {
    "colab": {
     "base_uri": "https://localhost:8080/"
    },
    "executionInfo": {
     "elapsed": 279,
     "status": "ok",
     "timestamp": 1634366978673,
     "user": {
      "displayName": "",
      "photoUrl": "",
      "userId": ""
     },
     "user_tz": -120
    },
    "id": "CwrUz0hn2KdM",
    "jupyter": {
     "outputs_hidden": false
    },
    "outputId": "eeae29f2-1791-4f7a-c172-f537c970250b"
   },
   "outputs": [],
   "source": [
    "ax1 = fig.add_subplot(2, 2, 1) #dodanie wykresu pomocniczego za pomocą add_subplot / 2 x 2 (tj.zawiera maks 4 wykresy)\n",
    "                               #i wybieramy pirewszy z czterech wykresów"
   ]
  },
  {
   "cell_type": "code",
   "execution_count": 12,
   "metadata": {
    "executionInfo": {
     "elapsed": 300,
     "status": "ok",
     "timestamp": 1634366982022,
     "user": {
      "displayName": "",
      "photoUrl": "",
      "userId": ""
     },
     "user_tz": -120
    },
    "id": "ysEw6FBu2KdN",
    "jupyter": {
     "outputs_hidden": false
    }
   },
   "outputs": [],
   "source": [
    "ax2 = fig.add_subplot(2, 2, 2)"
   ]
  },
  {
   "cell_type": "code",
   "execution_count": 13,
   "metadata": {
    "executionInfo": {
     "elapsed": 273,
     "status": "ok",
     "timestamp": 1634366985506,
     "user": {
      "displayName": "",
      "photoUrl": "",
      "userId": ""
     },
     "user_tz": -120
    },
    "id": "ahLKTgV82KdO",
    "jupyter": {
     "outputs_hidden": false
    }
   },
   "outputs": [],
   "source": [
    "ax3 = fig.add_subplot(2, 2, 3)"
   ]
  },
  {
   "cell_type": "code",
   "execution_count": 14,
   "metadata": {},
   "outputs": [],
   "source": [
    "ax4 = fig.add_subplot(2, 2, 4)"
   ]
  },
  {
   "cell_type": "code",
   "execution_count": 18,
   "metadata": {},
   "outputs": [
    {
     "data": {
      "text/plain": [
       "[<matplotlib.lines.Line2D at 0x1c86f2f2370>]"
      ]
     },
     "execution_count": 18,
     "metadata": {},
     "output_type": "execute_result"
    },
    {
     "data": {
      "image/png": "[encoded data removed]",
      "text/plain": [
       "<Figure size 432x288 with 1 Axes>"
      ]
     },
     "metadata": {
      "needs_background": "light"
     },
     "output_type": "display_data"
    }
   ],
   "source": [
    "plt.plot([1.5, 3.5, -2, 1.6], 'k--') #Polecenie kreślenia, na przykład plt.plot / k-- określa rodzaj linii"
   ]
  },
  {
   "cell_type": "code",
   "execution_count": 19,
   "metadata": {},
   "outputs": [
    {
     "data": {
      "text/plain": [
       "(array([ 1.,  1.,  2.,  2.,  3.,  4.,  6.,  7.,  6., 10.,  6., 12., 11.,\n",
       "         9.,  5.,  7.,  2.,  2.,  1.,  3.]),\n",
       " array([-2.93914425, -2.68362636, -2.42810848, -2.17259059, -1.9170727 ,\n",
       "        -1.66155481, -1.40603693, -1.15051904, -0.89500115, -0.63948326,\n",
       "        -0.38396538, -0.12844749,  0.1270704 ,  0.38258828,  0.63810617,\n",
       "         0.89362406,  1.14914195,  1.40465983,  1.66017772,  1.91569561,\n",
       "         2.1712135 ]),\n",
       " <BarContainer object of 20 artists>)"
      ]
     },
     "execution_count": 19,
     "metadata": {},
     "output_type": "execute_result"
    }
   ],
   "source": [
    "ax1.hist(np.random.randn(100), bins=20, color='k', alpha=0.3)"
   ]
  },
  {
   "cell_type": "code",
   "execution_count": 20,
   "metadata": {
    "colab": {
     "base_uri": "https://localhost:8080/"
    },
    "executionInfo": {
     "elapsed": 286,
     "status": "ok",
     "timestamp": 1634367045753,
     "user": {
      "displayName": "",
      "photoUrl": "",
      "userId": ""
     },
     "user_tz": -120
    },
    "id": "Ku5wY6db2KdQ",
    "jupyter": {
     "outputs_hidden": false
    },
    "outputId": "7b8f9c68-fb58-4402-98c8-7dae51c0ff68"
   },
   "outputs": [
    {
     "data": {
      "text/plain": [
       "<matplotlib.collections.PathCollection at 0x1c86f2ad940>"
      ]
     },
     "execution_count": 20,
     "metadata": {},
     "output_type": "execute_result"
    }
   ],
   "source": [
    "ax2.scatter(np.arange(30), np.arange(30) + 3 * np.random.randn(30))"
   ]
  },
  {
   "cell_type": "code",
   "execution_count": 59,
   "metadata": {
    "colab": {
     "base_uri": "https://localhost:8080/",
     "height": 287
    },
    "executionInfo": {
     "elapsed": 867,
     "status": "ok",
     "timestamp": 1634367054098,
     "user": {
      "displayName": "",
      "photoUrl": "",
      "userId": ""
     },
     "user_tz": -120
    },
    "id": "t_njgE3N2KdR",
    "jupyter": {
     "outputs_hidden": false
    },
    "outputId": "1f8d198a-388b-4c83-faf5-81b3d02f488c"
   },
   "outputs": [
    {
     "data": {
      "text/plain": [
       "<matplotlib.collections.PathCollection at 0x1c872cb9550>"
      ]
     },
     "execution_count": 59,
     "metadata": {},
     "output_type": "execute_result"
    },
    {
     "data": {
      "image/png": "[encoded data removed]",
      "text/plain": [
       "<Figure size 432x288 with 3 Axes>"
      ]
     },
     "metadata": {
      "needs_background": "light"
     },
     "output_type": "display_data"
    }
   ],
   "source": [
    "fig = plt.figure()\n",
    "fig.add_subplot(2, 2, 1)\n",
    "ax1 = fig.add_subplot(2, 2, 2)\n",
    "ax2 = fig.add_subplot(2, 2, 3)\n",
    "plt.plot([1.5, 3.5, -2, 1.6])\n",
    "_ = ax1.hist(np.random.randn(100), bins=20, color='k', alpha=0.3)\n",
    "ax2.scatter(np.arange(30), np.arange(30) + 3 * np.random.randn(30))"
   ]
  },
  {
   "cell_type": "markdown",
   "metadata": {
    "id": "Nqb0dsXI2KdS"
   },
   "source": [
    "# Kolor, znaczniki i style linii"
   ]
  },
  {
   "cell_type": "code",
   "execution_count": 22,
   "metadata": {
    "executionInfo": {
     "elapsed": 641,
     "status": "ok",
     "timestamp": 1634367070100,
     "user": {
      "displayName": "",
      "photoUrl": "",
      "userId": ""
     },
     "user_tz": -120
    },
    "id": "OEmogCcA2KdU",
    "jupyter": {
     "outputs_hidden": false
    }
   },
   "outputs": [],
   "source": [
    "from numpy.random import randn"
   ]
  },
  {
   "cell_type": "code",
   "execution_count": 31,
   "metadata": {
    "colab": {
     "base_uri": "https://localhost:8080/",
     "height": 283
    },
    "executionInfo": {
     "elapsed": 310,
     "status": "ok",
     "timestamp": 1634367108351,
     "user": {
      "displayName": "",
      "photoUrl": "",
      "userId": ""
     },
     "user_tz": -120
    },
    "id": "6D8q1FW82KdU",
    "jupyter": {
     "outputs_hidden": false
    },
    "outputId": "4fd701f7-c983-4357-ffee-86d2fa7c7248"
   },
   "outputs": [
    {
     "data": {
      "text/plain": [
       "[<matplotlib.lines.Line2D at 0x1c870756d60>]"
      ]
     },
     "execution_count": 31,
     "metadata": {},
     "output_type": "execute_result"
    },
    {
     "data": {
      "image/png": "[encoded data removed]",
      "text/plain": [
       "<Figure size 432x288 with 1 Axes>"
      ]
     },
     "metadata": {
      "needs_background": "light"
     },
     "output_type": "display_data"
    }
   ],
   "source": [
    "plt.plot(randn(30).cumsum(), 'ko--')"
   ]
  },
  {
   "cell_type": "markdown",
   "metadata": {
    "id": "e3beGXhU2KdV"
   },
   "source": [
    "to samo ale inaczej:"
   ]
  },
  {
   "cell_type": "code",
   "execution_count": 32,
   "metadata": {
    "id": "7CkzEToL2KdV"
   },
   "outputs": [
    {
     "data": {
      "text/plain": [
       "[<matplotlib.lines.Line2D at 0x1c8707cc2b0>]"
      ]
     },
     "execution_count": 32,
     "metadata": {},
     "output_type": "execute_result"
    },
    {
     "data": {
      "image/png": "[encoded data removed]",
      "text/plain": [
       "<Figure size 432x288 with 1 Axes>"
      ]
     },
     "metadata": {
      "needs_background": "light"
     },
     "output_type": "display_data"
    }
   ],
   "source": [
    "\n",
    "plt.plot(randn(30).cumsum(), color='k', linestyle='dashed', marker='o')\n"
   ]
  },
  {
   "cell_type": "code",
   "execution_count": 34,
   "metadata": {
    "colab": {
     "base_uri": "https://localhost:8080/",
     "height": 283
    },
    "executionInfo": {
     "elapsed": 332,
     "status": "ok",
     "timestamp": 1634367114180,
     "user": {
      "displayName": "",
      "photoUrl": "",
      "userId": ""
     },
     "user_tz": -120
    },
    "id": "jdcASxmL2KdV",
    "jupyter": {
     "outputs_hidden": false
    },
    "outputId": "68cf2c80-08c5-4278-f794-a836477b924d"
   },
   "outputs": [
    {
     "data": {
      "text/plain": [
       "<matplotlib.legend.Legend at 0x1c8708a7be0>"
      ]
     },
     "execution_count": 34,
     "metadata": {},
     "output_type": "execute_result"
    },
    {
     "data": {
      "image/png": "[encoded data removed]",
      "text/plain": [
       "<Figure size 432x288 with 1 Axes>"
      ]
     },
     "metadata": {
      "needs_background": "light"
     },
     "output_type": "display_data"
    }
   ],
   "source": [
    "#zmiana interpolacji liniowej za pomocą parametru 'drawstyle'\n",
    "data = np.random.randn(30).cumsum()\n",
    "plt.plot(data, 'k--', label='Default')\n",
    "plt.plot(data, 'k-', drawstyle='steps-post', label='steps-post')\n",
    "plt.legend(loc='best')"
   ]
  },
  {
   "cell_type": "markdown",
   "metadata": {
    "id": "kE8k1wSF2KdV"
   },
   "source": [
    "# Etykiety osi, skala i legenda\n"
   ]
  },
  {
   "cell_type": "code",
   "execution_count": 36,
   "metadata": {
    "colab": {
     "base_uri": "https://localhost:8080/",
     "height": 283
    },
    "executionInfo": {
     "elapsed": 625,
     "status": "ok",
     "timestamp": 1634367080408,
     "user": {
      "displayName": "",
      "photoUrl": "",
      "userId": ""
     },
     "user_tz": -120
    },
    "id": "xXZB7alI2KdW",
    "jupyter": {
     "outputs_hidden": false
    },
    "outputId": "8f408091-c8c1-4b74-a8b7-8c5f14517350"
   },
   "outputs": [
    {
     "data": {
      "text/plain": [
       "[<matplotlib.lines.Line2D at 0x1c870968850>]"
      ]
     },
     "execution_count": 36,
     "metadata": {},
     "output_type": "execute_result"
    },
    {
     "data": {
      "image/png": "[encoded data removed]",
      "text/plain": [
       "<Figure size 432x288 with 1 Axes>"
      ]
     },
     "metadata": {
      "needs_background": "light"
     },
     "output_type": "display_data"
    }
   ],
   "source": [
    "fig = plt.figure()\n",
    "ax = fig.add_subplot(1, 1, 1)\n",
    "ax.plot(np.random.randn(1000).cumsum())"
   ]
  },
  {
   "cell_type": "markdown",
   "metadata": {
    "id": "VhVwlyH62KdW"
   },
   "source": [
    "Zmiana etykiety na osi $x$: `set_xticks` a `set_xticklables`:"
   ]
  },
  {
   "cell_type": "code",
   "execution_count": 39,
   "metadata": {
    "colab": {
     "base_uri": "https://localhost:8080/",
     "height": 274
    },
    "executionInfo": {
     "elapsed": 37,
     "status": "ok",
     "timestamp": 1634367081443,
     "user": {
      "displayName": "",
      "photoUrl": "",
      "userId": ""
     },
     "user_tz": -120
    },
    "id": "jD_SfjaB2KdW",
    "jupyter": {
     "outputs_hidden": false
    },
    "outputId": "ec988a28-5a41-44b6-dee6-eed5a7d39d58"
   },
   "outputs": [
    {
     "data": {
      "image/png": "[encoded data removed]",
      "text/plain": [
       "<Figure size 432x288 with 1 Axes>"
      ]
     },
     "metadata": {
      "needs_background": "light"
     },
     "output_type": "display_data"
    }
   ],
   "source": [
    "fig = plt.figure()\n",
    "ax = fig.add_subplot(1, 1, 1)\n",
    "ax.plot(np.random.randn(1000).cumsum())\n",
    "ticks = ax.set_xticks([0, 250, 500, 750, 1000])\n",
    "#labels = ax.set_xticklabels(['one', 'two', 'three', 'four', 'five'], rotation=30, fontsize='small')"
   ]
  },
  {
   "cell_type": "markdown",
   "metadata": {
    "id": "9FDFiqys2KdX"
   },
   "source": [
    "Parametr `rotation` obraca etykiety na osi $x$ o 30 stopni. Ustaw `set_title` i `set_xlabel` dla osi $x$."
   ]
  },
  {
   "cell_type": "code",
   "execution_count": 42,
   "metadata": {
    "colab": {
     "base_uri": "https://localhost:8080/",
     "height": 321
    },
    "executionInfo": {
     "elapsed": 36,
     "status": "ok",
     "timestamp": 1634367081447,
     "user": {
      "displayName": "",
      "photoUrl": "",
      "userId": ""
     },
     "user_tz": -120
    },
    "id": "0eBbdMw92KdX",
    "jupyter": {
     "outputs_hidden": false
    },
    "outputId": "cfd9a1b6-5ae6-4ba6-fb95-54a97bf1dbe8"
   },
   "outputs": [
    {
     "data": {
      "text/plain": [
       "Text(0.5, 0, 'Kroki')"
      ]
     },
     "execution_count": 42,
     "metadata": {},
     "output_type": "execute_result"
    },
    {
     "data": {
      "image/png": "[encoded data removed]",
      "text/plain": [
       "<Figure size 432x288 with 1 Axes>"
      ]
     },
     "metadata": {
      "needs_background": "light"
     },
     "output_type": "display_data"
    }
   ],
   "source": [
    "fig = plt.figure()\n",
    "ax = fig.add_subplot(1, 1, 1)\n",
    "ax.plot(np.random.randn(1000).cumsum())\n",
    "ticks = ax.set_xticks([0, 250, 500, 750, 1000])\n",
    "#labels = ax.set_xticklabels(['one', 'two', 'three', 'four', 'five'], rotation=30, fontsize='small')\n",
    "ax.set_title('Pierwszy wykres Jozef')\n",
    "ax.set_xlabel('Kroki')"
   ]
  },
  {
   "cell_type": "markdown",
   "metadata": {
    "id": "xv1NJP8c2KdX"
   },
   "source": [
    "Oś $y$ jest modyfikowana dokładnie w ten sam sposób, tylko musisz zamienić `x` na `y` w powyższym kodzie. Klasa osi ma metodę `set`, która umożliwia grupowe ustawianie właściwości wykresu."
   ]
  },
  {
   "cell_type": "code",
   "execution_count": 50,
   "metadata": {
    "id": "vB-8BhhL2KdX"
   },
   "outputs": [
    {
     "data": {
      "text/plain": [
       "[Text(0.5, 1.0, 'Pierwszy wykres Jozef'), Text(0, 0.5, 'oś y')]"
      ]
     },
     "execution_count": 50,
     "metadata": {},
     "output_type": "execute_result"
    },
    {
     "data": {
      "image/png": "[encoded data removed]",
      "text/plain": [
       "<Figure size 432x288 with 1 Axes>"
      ]
     },
     "metadata": {
      "needs_background": "light"
     },
     "output_type": "display_data"
    }
   ],
   "source": [
    "fig = plt.figure()\n",
    "ax = fig.add_subplot(1, 1, 1)\n",
    "ax.plot(np.random.randn(1000).cumsum())\n",
    "ticks = ax.set_yticks([-20, -10, 0, 10, 20, 30, 40])\n",
    "props = {\n",
    "            'title': 'Pierwszy wykres Jozef',\n",
    "            'ylabel': 'oś y'\n",
    "        }\n",
    "ax.set(**props)\n"
   ]
  },
  {
   "cell_type": "markdown",
   "metadata": {
    "id": "3jQHeHHw2KdY"
   },
   "source": [
    "Wyświetlenie legendy `label`"
   ]
  },
  {
   "cell_type": "code",
   "execution_count": 53,
   "metadata": {
    "colab": {
     "base_uri": "https://localhost:8080/",
     "height": 283
    },
    "executionInfo": {
     "elapsed": 464,
     "status": "ok",
     "timestamp": 1634367081882,
     "user": {
      "displayName": "",
      "photoUrl": "",
      "userId": ""
     },
     "user_tz": -120
    },
    "id": "1BhIbmlP2KdY",
    "jupyter": {
     "outputs_hidden": false
    },
    "outputId": "22466909-7139-4dad-bf4c-9a21d42587aa"
   },
   "outputs": [
    {
     "data": {
      "text/plain": [
       "<matplotlib.legend.Legend at 0x1c871d3bc10>"
      ]
     },
     "execution_count": 53,
     "metadata": {},
     "output_type": "execute_result"
    },
    {
     "data": {
      "image/png": "[encoded data removed]",
      "text/plain": [
       "<Figure size 432x288 with 1 Axes>"
      ]
     },
     "metadata": {
      "needs_background": "light"
     },
     "output_type": "display_data"
    }
   ],
   "source": [
    "fig = plt.figure(); ax = fig.add_subplot(1, 1, 1)\n",
    "ax.plot(randn(1000).cumsum(), 'k', label='one')\n",
    "ax.plot(randn(1000).cumsum(), 'k--', label='two')\n",
    "ax.plot(randn(1000).cumsum(), 'k.', label='three')\n",
    "ax.legend(loc='best')"
   ]
  },
  {
   "cell_type": "markdown",
   "metadata": {
    "id": "2TBolbnT2KdY"
   },
   "source": [
    "# Zapisywanie rysunków do pliku"
   ]
  },
  {
   "cell_type": "code",
   "execution_count": 54,
   "metadata": {
    "id": "7MtSY4qt2KdY"
   },
   "outputs": [
    {
     "data": {
      "image/png": "[encoded data removed]",
      "text/plain": [
       "<Figure size 432x288 with 1 Axes>"
      ]
     },
     "metadata": {
      "needs_background": "light"
     },
     "output_type": "display_data"
    }
   ],
   "source": [
    "fig = plt.figure(); ax = fig.add_subplot(1, 1, 1)\n",
    "ax.plot(randn(1000).cumsum(), 'k', label='one')\n",
    "ax.plot(randn(1000).cumsum(), 'k--', label='two')\n",
    "ax.plot(randn(1000).cumsum(), 'k.', label='three')\n",
    "ax.legend(loc='best')\n",
    "plt.savefig('figpath.png', dpi=400, bbox_inches='tight')\n"
   ]
  },
  {
   "cell_type": "markdown",
   "metadata": {
    "id": "KKMZAk-O2KdZ"
   },
   "source": [
    "Funkcja `savefig` zapisuje nie tylko na dysku. Może zapisać wykres do dowolnego obiektu plikopodobnego, na przykład `BytesIO`:"
   ]
  },
  {
   "cell_type": "code",
   "execution_count": 56,
   "metadata": {
    "id": "YxlAPhgC2KdZ"
   },
   "outputs": [
    {
     "data": {
      "text/plain": [
       "<Figure size 432x288 with 0 Axes>"
      ]
     },
     "metadata": {},
     "output_type": "display_data"
    }
   ],
   "source": [
    "from io import BytesIO\n",
    "buffer = BytesIO()\n",
    "plt.savefig(buffer)\n",
    "plot_data = buffer.getvalue()\n"
   ]
  },
  {
   "cell_type": "markdown",
   "metadata": {
    "id": "JuFy8TsK2Kda"
   },
   "source": [
    "# Konstruowanie wykresów z pomocą `pandas` a `seaborn`"
   ]
  },
  {
   "cell_type": "code",
   "execution_count": 57,
   "metadata": {
    "id": "d-of8KHH2Kdb"
   },
   "outputs": [],
   "source": [
    "import numpy as np\n",
    "import  pandas as pd"
   ]
  },
  {
   "cell_type": "markdown",
   "metadata": {
    "id": "uVZBJNsu2Kdc"
   },
   "source": [
    "# Wykresy liniowe"
   ]
  },
  {
   "cell_type": "code",
   "execution_count": 63,
   "metadata": {
    "id": "bGDrT2X12Kdc",
    "jupyter": {
     "outputs_hidden": false
    }
   },
   "outputs": [
    {
     "data": {
      "text/plain": [
       "<AxesSubplot:>"
      ]
     },
     "execution_count": 63,
     "metadata": {},
     "output_type": "execute_result"
    },
    {
     "data": {
      "image/png": "[encoded data removed]",
      "text/plain": [
       "<Figure size 432x288 with 1 Axes>"
      ]
     },
     "metadata": {
      "needs_background": "light"
     },
     "output_type": "display_data"
    }
   ],
   "source": [
    "s = pd.Series(data=np.random.randn(10).cumsum(), index=np.arange(0, 100, 10)) #Domyślnie `plot()` tworzy wykresy liniowe\n",
    "s.plot() #indeks obiektu s jest przekazywany do plot biblioteki matplotlib dla osi x"
   ]
  },
  {
   "cell_type": "markdown",
   "metadata": {
    "id": "CoBVS-WP2Kdd"
   },
   "source": [
    "Metoda `plot` obiektu `DataFrame` wyświetla wykres dla każdej kolumny danych jako linię na tym samym wykresie podrzędnym, tworząc automatycznie legendę:"
   ]
  },
  {
   "cell_type": "code",
   "execution_count": 64,
   "metadata": {
    "id": "CY0hDtkQ2Kdd",
    "jupyter": {
     "outputs_hidden": false
    }
   },
   "outputs": [],
   "source": [
    "df = pd.DataFrame(np.random.randn(10, 4).cumsum(0), columns=['A', 'B', 'C', 'D'], index=np.arange(0, 100, 10))"
   ]
  },
  {
   "cell_type": "code",
   "execution_count": 65,
   "metadata": {
    "id": "d71p0nJ_2Kde",
    "jupyter": {
     "outputs_hidden": false
    }
   },
   "outputs": [
    {
     "data": {
      "text/plain": [
       "<AxesSubplot:>"
      ]
     },
     "execution_count": 65,
     "metadata": {},
     "output_type": "execute_result"
    },
    {
     "data": {
      "image/png": "[encoded data removed]",
      "text/plain": [
       "<Figure size 432x288 with 1 Axes>"
      ]
     },
     "metadata": {
      "needs_background": "light"
     },
     "output_type": "display_data"
    }
   ],
   "source": [
    "df.plot()"
   ]
  },
  {
   "cell_type": "markdown",
   "metadata": {
    "id": "LQkFVmeg2Kdf"
   },
   "source": [
    "# Wykresy kolumnowe\n",
    "\n",
    "Metody `plot.bar()` i `plot.barh()` kreślą w pionie i\n",
    "poziome wykresy słupkowe. W tym przypadku indeksy obiektów `Series` i`DataFrame` jako etykiety na osi `x` (`bar`) lub `y` (`barh`).\n",
    "\n",
    "Parametry `color = 'k'` i` alpha = 0.7` ustawiają kolor wykresu na czarny i częściową przezroczystość dla wypełnienia."
   ]
  },
  {
   "cell_type": "code",
   "execution_count": 66,
   "metadata": {},
   "outputs": [
    {
     "data": {
      "text/plain": [
       "<AxesSubplot:>"
      ]
     },
     "execution_count": 66,
     "metadata": {},
     "output_type": "execute_result"
    },
    {
     "data": {
      "image/png": "[encoded data removed]",
      "text/plain": [
       "<Figure size 432x288 with 2 Axes>"
      ]
     },
     "metadata": {
      "needs_background": "light"
     },
     "output_type": "display_data"
    }
   ],
   "source": [
    "fig, axes = plt.subplots(2, 1)\n",
    "data = pd.Series(np.random.rand(16), index=list('abcdefghijklmnop'))\n",
    "data.plot.bar(ax=axes[0], color='k', alpha=0.7)\n",
    "data.plot.barh(ax=axes[1], color='k', alpha=0.7)"
   ]
  },
  {
   "cell_type": "markdown",
   "metadata": {
    "id": "9zK1sCH-2Kdg"
   },
   "source": [
    "W `DataFrame` wykresy słupkowe grupują każdy wiersz wartości w grupę słupków odpowiadających każdej wartości w wierszu:"
   ]
  },
  {
   "cell_type": "code",
   "execution_count": 68,
   "metadata": {
    "colab": {
     "base_uri": "https://localhost:8080/",
     "height": 183
    },
    "executionInfo": {
     "elapsed": 849,
     "status": "error",
     "timestamp": 1634366887122,
     "user": {
      "displayName": "",
      "photoUrl": "",
      "userId": ""
     },
     "user_tz": -120
    },
    "id": "IRvo6tr62Kdg",
    "jupyter": {
     "outputs_hidden": false
    },
    "outputId": "55579029-f701-47e8-fc00-b4b33353f573"
   },
   "outputs": [],
   "source": [
    "df = pd.DataFrame(np.random.rand(6, 4), index=['one', 'two', 'three', 'four', 'five', 'six'], columns=pd.Index(['A', 'B', 'C', 'D'], name='Genus'))"
   ]
  },
  {
   "cell_type": "code",
   "execution_count": 69,
   "metadata": {
    "id": "CPthzbjB2Kdh",
    "jupyter": {
     "outputs_hidden": false
    }
   },
   "outputs": [
    {
     "data": {
      "text/html": [
       "<div>\n",
       "<style scoped>\n",
       "    .dataframe tbody tr th:only-of-type {\n",
       "        vertical-align: middle;\n",
       "    }\n",
       "\n",
       "    .dataframe tbody tr th {\n",
       "        vertical-align: top;\n",
       "    }\n",
       "\n",
       "    .dataframe thead th {\n",
       "        text-align: right;\n",
       "    }\n",
       "</style>\n",
       "<table border=\"1\" class=\"dataframe\">\n",
       "  <thead>\n",
       "    <tr style=\"text-align: right;\">\n",
       "      <th>Genus</th>\n",
       "      <th>A</th>\n",
       "      <th>B</th>\n",
       "      <th>C</th>\n",
       "      <th>D</th>\n",
       "    </tr>\n",
       "  </thead>\n",
       "  <tbody>\n",
       "    <tr>\n",
       "      <th>one</th>\n",
       "      <td>0.011609</td>\n",
       "      <td>0.244304</td>\n",
       "      <td>0.654482</td>\n",
       "      <td>0.826471</td>\n",
       "    </tr>\n",
       "    <tr>\n",
       "      <th>two</th>\n",
       "      <td>0.944472</td>\n",
       "      <td>0.957914</td>\n",
       "      <td>0.635944</td>\n",
       "      <td>0.772819</td>\n",
       "    </tr>\n",
       "    <tr>\n",
       "      <th>three</th>\n",
       "      <td>0.228861</td>\n",
       "      <td>0.096569</td>\n",
       "      <td>0.339442</td>\n",
       "      <td>0.033297</td>\n",
       "    </tr>\n",
       "    <tr>\n",
       "      <th>four</th>\n",
       "      <td>0.443671</td>\n",
       "      <td>0.265465</td>\n",
       "      <td>0.728129</td>\n",
       "      <td>0.225287</td>\n",
       "    </tr>\n",
       "    <tr>\n",
       "      <th>five</th>\n",
       "      <td>0.786541</td>\n",
       "      <td>0.719092</td>\n",
       "      <td>0.495559</td>\n",
       "      <td>0.907727</td>\n",
       "    </tr>\n",
       "    <tr>\n",
       "      <th>six</th>\n",
       "      <td>0.327958</td>\n",
       "      <td>0.632740</td>\n",
       "      <td>0.040122</td>\n",
       "      <td>0.654916</td>\n",
       "    </tr>\n",
       "  </tbody>\n",
       "</table>\n",
       "</div>"
      ],
      "text/plain": [
       "Genus         A         B         C         D\n",
       "one    0.011609  0.244304  0.654482  0.826471\n",
       "two    0.944472  0.957914  0.635944  0.772819\n",
       "three  0.228861  0.096569  0.339442  0.033297\n",
       "four   0.443671  0.265465  0.728129  0.225287\n",
       "five   0.786541  0.719092  0.495559  0.907727\n",
       "six    0.327958  0.632740  0.040122  0.654916"
      ]
     },
     "execution_count": 69,
     "metadata": {},
     "output_type": "execute_result"
    }
   ],
   "source": [
    "df"
   ]
  },
  {
   "cell_type": "code",
   "execution_count": 70,
   "metadata": {
    "id": "Ti9DgBSd2Kdh",
    "jupyter": {
     "outputs_hidden": false
    }
   },
   "outputs": [
    {
     "data": {
      "text/plain": [
       "<AxesSubplot:>"
      ]
     },
     "execution_count": 70,
     "metadata": {},
     "output_type": "execute_result"
    },
    {
     "data": {
      "image/png": "[encoded data removed]",
      "text/plain": [
       "<Figure size 432x288 with 1 Axes>"
      ]
     },
     "metadata": {
      "needs_background": "light"
     },
     "output_type": "display_data"
    }
   ],
   "source": [
    "df.plot.bar()"
   ]
  },
  {
   "cell_type": "markdown",
   "metadata": {
    "id": "NkUwnx0g2Kdh"
   },
   "source": [
    "Aby utworzyć skumulowane wykresy słupkowe, `DataFrame` jest ustawiane na `stacked = True`, co powoduje grupowanie wartości w każdym wierszu"
   ]
  },
  {
   "cell_type": "code",
   "execution_count": 71,
   "metadata": {
    "id": "RDDnO-Ho2Kdi",
    "jupyter": {
     "outputs_hidden": false
    }
   },
   "outputs": [
    {
     "data": {
      "text/plain": [
       "<AxesSubplot:>"
      ]
     },
     "execution_count": 71,
     "metadata": {},
     "output_type": "execute_result"
    },
    {
     "data": {
      "image/png": "[encoded data removed]",
      "text/plain": [
       "<Figure size 432x288 with 1 Axes>"
      ]
     },
     "metadata": {
      "needs_background": "light"
     },
     "output_type": "display_data"
    }
   ],
   "source": [
    "df.plot.barh(stacked=True, alpha=0.5)"
   ]
  },
  {
   "cell_type": "markdown",
   "metadata": {
    "id": "u-IlZdwI2Kdi"
   },
   "source": [
    "Załóżmy, że mamy zestaw danych z rachunkami i napiwkami w restauracji i chcemy zbudować skumulowany wykres słupkowy pokazujący procent punktów danych dla każdej wielkości grupy każdego dnia. Załaduj dane z pliku tips.csv i stwórz podsumowanie według dnia i wielkości imprezy (Liczba osób):"
   ]
  },
  {
   "cell_type": "code",
   "execution_count": 74,
   "metadata": {
    "id": "x3-Lea9L2Kdi",
    "jupyter": {
     "outputs_hidden": false
    }
   },
   "outputs": [],
   "source": [
    "df = pd.read_csv ( \"IHME_GDP_1960_2050_Y2021M09D22.csv\", encoding='latin1')"
   ]
  },
  {
   "cell_type": "code",
   "execution_count": 75,
   "metadata": {},
   "outputs": [
    {
     "data": {
      "text/html": [
       "<div>\n",
       "<style scoped>\n",
       "    .dataframe tbody tr th:only-of-type {\n",
       "        vertical-align: middle;\n",
       "    }\n",
       "\n",
       "    .dataframe tbody tr th {\n",
       "        vertical-align: top;\n",
       "    }\n",
       "\n",
       "    .dataframe thead th {\n",
       "        text-align: right;\n",
       "    }\n",
       "</style>\n",
       "<table border=\"1\" class=\"dataframe\">\n",
       "  <thead>\n",
       "    <tr style=\"text-align: right;\">\n",
       "      <th></th>\n",
       "      <th>location_id</th>\n",
       "      <th>location_name</th>\n",
       "      <th>iso3</th>\n",
       "      <th>level</th>\n",
       "      <th>year</th>\n",
       "      <th>gdp_ppp_mean</th>\n",
       "      <th>gdp_ppp_lower</th>\n",
       "      <th>gdp_ppp_upper</th>\n",
       "      <th>gdp_usd_mean</th>\n",
       "      <th>gdp_usd_lower</th>\n",
       "      <th>gdp_usd_upper</th>\n",
       "    </tr>\n",
       "  </thead>\n",
       "  <tbody>\n",
       "    <tr>\n",
       "      <th>0</th>\n",
       "      <td>1</td>\n",
       "      <td>Global</td>\n",
       "      <td>G</td>\n",
       "      <td>Global</td>\n",
       "      <td>1960</td>\n",
       "      <td>1.748345e+13</td>\n",
       "      <td>1.601915e+13</td>\n",
       "      <td>1.911586e+13</td>\n",
       "      <td>1.296863e+13</td>\n",
       "      <td>1.266890e+13</td>\n",
       "      <td>1.334177e+13</td>\n",
       "    </tr>\n",
       "    <tr>\n",
       "      <th>1</th>\n",
       "      <td>1</td>\n",
       "      <td>Global</td>\n",
       "      <td>G</td>\n",
       "      <td>Global</td>\n",
       "      <td>1961</td>\n",
       "      <td>1.813537e+13</td>\n",
       "      <td>1.659537e+13</td>\n",
       "      <td>1.982493e+13</td>\n",
       "      <td>1.346097e+13</td>\n",
       "      <td>1.314767e+13</td>\n",
       "      <td>1.383021e+13</td>\n",
       "    </tr>\n",
       "    <tr>\n",
       "      <th>2</th>\n",
       "      <td>1</td>\n",
       "      <td>Global</td>\n",
       "      <td>G</td>\n",
       "      <td>Global</td>\n",
       "      <td>1962</td>\n",
       "      <td>1.895328e+13</td>\n",
       "      <td>1.739039e+13</td>\n",
       "      <td>2.061477e+13</td>\n",
       "      <td>1.406576e+13</td>\n",
       "      <td>1.376060e+13</td>\n",
       "      <td>1.443746e+13</td>\n",
       "    </tr>\n",
       "    <tr>\n",
       "      <th>3</th>\n",
       "      <td>1</td>\n",
       "      <td>Global</td>\n",
       "      <td>G</td>\n",
       "      <td>Global</td>\n",
       "      <td>1963</td>\n",
       "      <td>1.965662e+13</td>\n",
       "      <td>1.811706e+13</td>\n",
       "      <td>2.134993e+13</td>\n",
       "      <td>1.461831e+13</td>\n",
       "      <td>1.432132e+13</td>\n",
       "      <td>1.497693e+13</td>\n",
       "    </tr>\n",
       "    <tr>\n",
       "      <th>4</th>\n",
       "      <td>1</td>\n",
       "      <td>Global</td>\n",
       "      <td>G</td>\n",
       "      <td>Global</td>\n",
       "      <td>1964</td>\n",
       "      <td>2.100575e+13</td>\n",
       "      <td>1.935664e+13</td>\n",
       "      <td>2.276791e+13</td>\n",
       "      <td>1.552986e+13</td>\n",
       "      <td>1.523498e+13</td>\n",
       "      <td>1.587998e+13</td>\n",
       "    </tr>\n",
       "  </tbody>\n",
       "</table>\n",
       "</div>"
      ],
      "text/plain": [
       "   location_id location_name iso3   level  year  gdp_ppp_mean  gdp_ppp_lower  \\\n",
       "0            1        Global    G  Global  1960  1.748345e+13   1.601915e+13   \n",
       "1            1        Global    G  Global  1961  1.813537e+13   1.659537e+13   \n",
       "2            1        Global    G  Global  1962  1.895328e+13   1.739039e+13   \n",
       "3            1        Global    G  Global  1963  1.965662e+13   1.811706e+13   \n",
       "4            1        Global    G  Global  1964  2.100575e+13   1.935664e+13   \n",
       "\n",
       "   gdp_ppp_upper  gdp_usd_mean  gdp_usd_lower  gdp_usd_upper  \n",
       "0   1.911586e+13  1.296863e+13   1.266890e+13   1.334177e+13  \n",
       "1   1.982493e+13  1.346097e+13   1.314767e+13   1.383021e+13  \n",
       "2   2.061477e+13  1.406576e+13   1.376060e+13   1.443746e+13  \n",
       "3   2.134993e+13  1.461831e+13   1.432132e+13   1.497693e+13  \n",
       "4   2.276791e+13  1.552986e+13   1.523498e+13   1.587998e+13  "
      ]
     },
     "execution_count": 75,
     "metadata": {},
     "output_type": "execute_result"
    }
   ],
   "source": [
    "df.head()"
   ]
  },
  {
   "cell_type": "code",
   "execution_count": 94,
   "metadata": {
    "id": "Ro7pBtPK2Kdj",
    "jupyter": {
     "outputs_hidden": false
    }
   },
   "outputs": [],
   "source": [
    "crosstab = pd.crosstab(dane['level'], dane['location_name'])"
   ]
  },
  {
   "cell_type": "code",
   "execution_count": 95,
   "metadata": {
    "id": "UX_nWOLz2Kdj",
    "jupyter": {
     "outputs_hidden": false
    }
   },
   "outputs": [
    {
     "data": {
      "text/html": [
       "<div>\n",
       "<style scoped>\n",
       "    .dataframe tbody tr th:only-of-type {\n",
       "        vertical-align: middle;\n",
       "    }\n",
       "\n",
       "    .dataframe tbody tr th {\n",
       "        vertical-align: top;\n",
       "    }\n",
       "\n",
       "    .dataframe thead th {\n",
       "        text-align: right;\n",
       "    }\n",
       "</style>\n",
       "<table border=\"1\" class=\"dataframe\">\n",
       "  <thead>\n",
       "    <tr style=\"text-align: right;\">\n",
       "      <th>location_name</th>\n",
       "      <th>Afghanistan</th>\n",
       "      <th>Albania</th>\n",
       "      <th>Algeria</th>\n",
       "      <th>American Samoa</th>\n",
       "      <th>Andorra</th>\n",
       "      <th>Angola</th>\n",
       "      <th>Antigua and Barbuda</th>\n",
       "      <th>Argentina</th>\n",
       "      <th>Armenia</th>\n",
       "      <th>Australia</th>\n",
       "      <th>...</th>\n",
       "      <th>United States of America</th>\n",
       "      <th>Upper-middle income</th>\n",
       "      <th>Uruguay</th>\n",
       "      <th>Uzbekistan</th>\n",
       "      <th>Vanuatu</th>\n",
       "      <th>Venezuela (Bolivarian Republic of)</th>\n",
       "      <th>Viet Nam</th>\n",
       "      <th>Yemen</th>\n",
       "      <th>Zambia</th>\n",
       "      <th>Zimbabwe</th>\n",
       "    </tr>\n",
       "    <tr>\n",
       "      <th>level</th>\n",
       "      <th></th>\n",
       "      <th></th>\n",
       "      <th></th>\n",
       "      <th></th>\n",
       "      <th></th>\n",
       "      <th></th>\n",
       "      <th></th>\n",
       "      <th></th>\n",
       "      <th></th>\n",
       "      <th></th>\n",
       "      <th></th>\n",
       "      <th></th>\n",
       "      <th></th>\n",
       "      <th></th>\n",
       "      <th></th>\n",
       "      <th></th>\n",
       "      <th></th>\n",
       "      <th></th>\n",
       "      <th></th>\n",
       "      <th></th>\n",
       "      <th></th>\n",
       "    </tr>\n",
       "  </thead>\n",
       "  <tbody>\n",
       "    <tr>\n",
       "      <th>Country</th>\n",
       "      <td>91</td>\n",
       "      <td>91</td>\n",
       "      <td>91</td>\n",
       "      <td>91</td>\n",
       "      <td>91</td>\n",
       "      <td>91</td>\n",
       "      <td>91</td>\n",
       "      <td>91</td>\n",
       "      <td>91</td>\n",
       "      <td>91</td>\n",
       "      <td>...</td>\n",
       "      <td>91</td>\n",
       "      <td>0</td>\n",
       "      <td>91</td>\n",
       "      <td>91</td>\n",
       "      <td>91</td>\n",
       "      <td>91</td>\n",
       "      <td>91</td>\n",
       "      <td>91</td>\n",
       "      <td>91</td>\n",
       "      <td>91</td>\n",
       "    </tr>\n",
       "    <tr>\n",
       "      <th>GBD Super Region</th>\n",
       "      <td>0</td>\n",
       "      <td>0</td>\n",
       "      <td>0</td>\n",
       "      <td>0</td>\n",
       "      <td>0</td>\n",
       "      <td>0</td>\n",
       "      <td>0</td>\n",
       "      <td>0</td>\n",
       "      <td>0</td>\n",
       "      <td>0</td>\n",
       "      <td>...</td>\n",
       "      <td>0</td>\n",
       "      <td>0</td>\n",
       "      <td>0</td>\n",
       "      <td>0</td>\n",
       "      <td>0</td>\n",
       "      <td>0</td>\n",
       "      <td>0</td>\n",
       "      <td>0</td>\n",
       "      <td>0</td>\n",
       "      <td>0</td>\n",
       "    </tr>\n",
       "    <tr>\n",
       "      <th>Global</th>\n",
       "      <td>0</td>\n",
       "      <td>0</td>\n",
       "      <td>0</td>\n",
       "      <td>0</td>\n",
       "      <td>0</td>\n",
       "      <td>0</td>\n",
       "      <td>0</td>\n",
       "      <td>0</td>\n",
       "      <td>0</td>\n",
       "      <td>0</td>\n",
       "      <td>...</td>\n",
       "      <td>0</td>\n",
       "      <td>0</td>\n",
       "      <td>0</td>\n",
       "      <td>0</td>\n",
       "      <td>0</td>\n",
       "      <td>0</td>\n",
       "      <td>0</td>\n",
       "      <td>0</td>\n",
       "      <td>0</td>\n",
       "      <td>0</td>\n",
       "    </tr>\n",
       "    <tr>\n",
       "      <th>World Bank Income Group</th>\n",
       "      <td>0</td>\n",
       "      <td>0</td>\n",
       "      <td>0</td>\n",
       "      <td>0</td>\n",
       "      <td>0</td>\n",
       "      <td>0</td>\n",
       "      <td>0</td>\n",
       "      <td>0</td>\n",
       "      <td>0</td>\n",
       "      <td>0</td>\n",
       "      <td>...</td>\n",
       "      <td>0</td>\n",
       "      <td>91</td>\n",
       "      <td>0</td>\n",
       "      <td>0</td>\n",
       "      <td>0</td>\n",
       "      <td>0</td>\n",
       "      <td>0</td>\n",
       "      <td>0</td>\n",
       "      <td>0</td>\n",
       "      <td>0</td>\n",
       "    </tr>\n",
       "  </tbody>\n",
       "</table>\n",
       "<p>4 rows × 216 columns</p>\n",
       "</div>"
      ],
      "text/plain": [
       "location_name            Afghanistan  Albania  Algeria  American Samoa  \\\n",
       "level                                                                    \n",
       "Country                           91       91       91              91   \n",
       "GBD Super Region                   0        0        0               0   \n",
       "Global                             0        0        0               0   \n",
       "World Bank Income Group            0        0        0               0   \n",
       "\n",
       "location_name            Andorra  Angola  Antigua and Barbuda  Argentina  \\\n",
       "level                                                                      \n",
       "Country                       91      91                   91         91   \n",
       "GBD Super Region               0       0                    0          0   \n",
       "Global                         0       0                    0          0   \n",
       "World Bank Income Group        0       0                    0          0   \n",
       "\n",
       "location_name            Armenia  Australia  ...  United States of America  \\\n",
       "level                                        ...                             \n",
       "Country                       91         91  ...                        91   \n",
       "GBD Super Region               0          0  ...                         0   \n",
       "Global                         0          0  ...                         0   \n",
       "World Bank Income Group        0          0  ...                         0   \n",
       "\n",
       "location_name            Upper-middle income  Uruguay  Uzbekistan  Vanuatu  \\\n",
       "level                                                                        \n",
       "Country                                    0       91          91       91   \n",
       "GBD Super Region                           0        0           0        0   \n",
       "Global                                     0        0           0        0   \n",
       "World Bank Income Group                   91        0           0        0   \n",
       "\n",
       "location_name            Venezuela (Bolivarian Republic of)  Viet Nam  Yemen  \\\n",
       "level                                                                          \n",
       "Country                                                  91        91     91   \n",
       "GBD Super Region                                          0         0      0   \n",
       "Global                                                    0         0      0   \n",
       "World Bank Income Group                                   0         0      0   \n",
       "\n",
       "location_name            Zambia  Zimbabwe  \n",
       "level                                      \n",
       "Country                      91        91  \n",
       "GBD Super Region              0         0  \n",
       "Global                        0         0  \n",
       "World Bank Income Group       0         0  \n",
       "\n",
       "[4 rows x 216 columns]"
      ]
     },
     "execution_count": 95,
     "metadata": {},
     "output_type": "execute_result"
    }
   ],
   "source": [
    "crosstab"
   ]
  },
  {
   "cell_type": "code",
   "execution_count": 96,
   "metadata": {
    "id": "zDNaWuyU2Kdj",
    "jupyter": {
     "outputs_hidden": false
    }
   },
   "outputs": [],
   "source": [
    "crosstab = crosstab.loc[:,:]"
   ]
  },
  {
   "cell_type": "code",
   "execution_count": 97,
   "metadata": {
    "id": "tCzoNxs42Kdj",
    "jupyter": {
     "outputs_hidden": false
    }
   },
   "outputs": [],
   "source": [
    "crosstab = crosstab.div(crosstab.sum(1), axis=0) #normalizacja danych"
   ]
  },
  {
   "cell_type": "code",
   "execution_count": 98,
   "metadata": {
    "id": "bSEt9y0Z2Kdk",
    "jupyter": {
     "outputs_hidden": false
    }
   },
   "outputs": [
    {
     "data": {
      "text/html": [
       "<div>\n",
       "<style scoped>\n",
       "    .dataframe tbody tr th:only-of-type {\n",
       "        vertical-align: middle;\n",
       "    }\n",
       "\n",
       "    .dataframe tbody tr th {\n",
       "        vertical-align: top;\n",
       "    }\n",
       "\n",
       "    .dataframe thead th {\n",
       "        text-align: right;\n",
       "    }\n",
       "</style>\n",
       "<table border=\"1\" class=\"dataframe\">\n",
       "  <thead>\n",
       "    <tr style=\"text-align: right;\">\n",
       "      <th>location_name</th>\n",
       "      <th>Afghanistan</th>\n",
       "      <th>Albania</th>\n",
       "      <th>Algeria</th>\n",
       "      <th>American Samoa</th>\n",
       "      <th>Andorra</th>\n",
       "      <th>Angola</th>\n",
       "      <th>Antigua and Barbuda</th>\n",
       "      <th>Argentina</th>\n",
       "      <th>Armenia</th>\n",
       "      <th>Australia</th>\n",
       "      <th>...</th>\n",
       "      <th>United States of America</th>\n",
       "      <th>Upper-middle income</th>\n",
       "      <th>Uruguay</th>\n",
       "      <th>Uzbekistan</th>\n",
       "      <th>Vanuatu</th>\n",
       "      <th>Venezuela (Bolivarian Republic of)</th>\n",
       "      <th>Viet Nam</th>\n",
       "      <th>Yemen</th>\n",
       "      <th>Zambia</th>\n",
       "      <th>Zimbabwe</th>\n",
       "    </tr>\n",
       "    <tr>\n",
       "      <th>level</th>\n",
       "      <th></th>\n",
       "      <th></th>\n",
       "      <th></th>\n",
       "      <th></th>\n",
       "      <th></th>\n",
       "      <th></th>\n",
       "      <th></th>\n",
       "      <th></th>\n",
       "      <th></th>\n",
       "      <th></th>\n",
       "      <th></th>\n",
       "      <th></th>\n",
       "      <th></th>\n",
       "      <th></th>\n",
       "      <th></th>\n",
       "      <th></th>\n",
       "      <th></th>\n",
       "      <th></th>\n",
       "      <th></th>\n",
       "      <th></th>\n",
       "      <th></th>\n",
       "    </tr>\n",
       "  </thead>\n",
       "  <tbody>\n",
       "    <tr>\n",
       "      <th>Country</th>\n",
       "      <td>0.004902</td>\n",
       "      <td>0.004902</td>\n",
       "      <td>0.004902</td>\n",
       "      <td>0.004902</td>\n",
       "      <td>0.004902</td>\n",
       "      <td>0.004902</td>\n",
       "      <td>0.004902</td>\n",
       "      <td>0.004902</td>\n",
       "      <td>0.004902</td>\n",
       "      <td>0.004902</td>\n",
       "      <td>...</td>\n",
       "      <td>0.004902</td>\n",
       "      <td>0.00</td>\n",
       "      <td>0.004902</td>\n",
       "      <td>0.004902</td>\n",
       "      <td>0.004902</td>\n",
       "      <td>0.004902</td>\n",
       "      <td>0.004902</td>\n",
       "      <td>0.004902</td>\n",
       "      <td>0.004902</td>\n",
       "      <td>0.004902</td>\n",
       "    </tr>\n",
       "    <tr>\n",
       "      <th>GBD Super Region</th>\n",
       "      <td>0.000000</td>\n",
       "      <td>0.000000</td>\n",
       "      <td>0.000000</td>\n",
       "      <td>0.000000</td>\n",
       "      <td>0.000000</td>\n",
       "      <td>0.000000</td>\n",
       "      <td>0.000000</td>\n",
       "      <td>0.000000</td>\n",
       "      <td>0.000000</td>\n",
       "      <td>0.000000</td>\n",
       "      <td>...</td>\n",
       "      <td>0.000000</td>\n",
       "      <td>0.00</td>\n",
       "      <td>0.000000</td>\n",
       "      <td>0.000000</td>\n",
       "      <td>0.000000</td>\n",
       "      <td>0.000000</td>\n",
       "      <td>0.000000</td>\n",
       "      <td>0.000000</td>\n",
       "      <td>0.000000</td>\n",
       "      <td>0.000000</td>\n",
       "    </tr>\n",
       "    <tr>\n",
       "      <th>Global</th>\n",
       "      <td>0.000000</td>\n",
       "      <td>0.000000</td>\n",
       "      <td>0.000000</td>\n",
       "      <td>0.000000</td>\n",
       "      <td>0.000000</td>\n",
       "      <td>0.000000</td>\n",
       "      <td>0.000000</td>\n",
       "      <td>0.000000</td>\n",
       "      <td>0.000000</td>\n",
       "      <td>0.000000</td>\n",
       "      <td>...</td>\n",
       "      <td>0.000000</td>\n",
       "      <td>0.00</td>\n",
       "      <td>0.000000</td>\n",
       "      <td>0.000000</td>\n",
       "      <td>0.000000</td>\n",
       "      <td>0.000000</td>\n",
       "      <td>0.000000</td>\n",
       "      <td>0.000000</td>\n",
       "      <td>0.000000</td>\n",
       "      <td>0.000000</td>\n",
       "    </tr>\n",
       "    <tr>\n",
       "      <th>World Bank Income Group</th>\n",
       "      <td>0.000000</td>\n",
       "      <td>0.000000</td>\n",
       "      <td>0.000000</td>\n",
       "      <td>0.000000</td>\n",
       "      <td>0.000000</td>\n",
       "      <td>0.000000</td>\n",
       "      <td>0.000000</td>\n",
       "      <td>0.000000</td>\n",
       "      <td>0.000000</td>\n",
       "      <td>0.000000</td>\n",
       "      <td>...</td>\n",
       "      <td>0.000000</td>\n",
       "      <td>0.25</td>\n",
       "      <td>0.000000</td>\n",
       "      <td>0.000000</td>\n",
       "      <td>0.000000</td>\n",
       "      <td>0.000000</td>\n",
       "      <td>0.000000</td>\n",
       "      <td>0.000000</td>\n",
       "      <td>0.000000</td>\n",
       "      <td>0.000000</td>\n",
       "    </tr>\n",
       "  </tbody>\n",
       "</table>\n",
       "<p>4 rows × 216 columns</p>\n",
       "</div>"
      ],
      "text/plain": [
       "location_name            Afghanistan   Albania   Algeria  American Samoa  \\\n",
       "level                                                                      \n",
       "Country                     0.004902  0.004902  0.004902        0.004902   \n",
       "GBD Super Region            0.000000  0.000000  0.000000        0.000000   \n",
       "Global                      0.000000  0.000000  0.000000        0.000000   \n",
       "World Bank Income Group     0.000000  0.000000  0.000000        0.000000   \n",
       "\n",
       "location_name             Andorra    Angola  Antigua and Barbuda  Argentina  \\\n",
       "level                                                                         \n",
       "Country                  0.004902  0.004902             0.004902   0.004902   \n",
       "GBD Super Region         0.000000  0.000000             0.000000   0.000000   \n",
       "Global                   0.000000  0.000000             0.000000   0.000000   \n",
       "World Bank Income Group  0.000000  0.000000             0.000000   0.000000   \n",
       "\n",
       "location_name             Armenia  Australia  ...  United States of America  \\\n",
       "level                                         ...                             \n",
       "Country                  0.004902   0.004902  ...                  0.004902   \n",
       "GBD Super Region         0.000000   0.000000  ...                  0.000000   \n",
       "Global                   0.000000   0.000000  ...                  0.000000   \n",
       "World Bank Income Group  0.000000   0.000000  ...                  0.000000   \n",
       "\n",
       "location_name            Upper-middle income   Uruguay  Uzbekistan   Vanuatu  \\\n",
       "level                                                                          \n",
       "Country                                 0.00  0.004902    0.004902  0.004902   \n",
       "GBD Super Region                        0.00  0.000000    0.000000  0.000000   \n",
       "Global                                  0.00  0.000000    0.000000  0.000000   \n",
       "World Bank Income Group                 0.25  0.000000    0.000000  0.000000   \n",
       "\n",
       "location_name            Venezuela (Bolivarian Republic of)  Viet Nam  \\\n",
       "level                                                                   \n",
       "Country                                            0.004902  0.004902   \n",
       "GBD Super Region                                   0.000000  0.000000   \n",
       "Global                                             0.000000  0.000000   \n",
       "World Bank Income Group                            0.000000  0.000000   \n",
       "\n",
       "location_name               Yemen    Zambia  Zimbabwe  \n",
       "level                                                  \n",
       "Country                  0.004902  0.004902  0.004902  \n",
       "GBD Super Region         0.000000  0.000000  0.000000  \n",
       "Global                   0.000000  0.000000  0.000000  \n",
       "World Bank Income Group  0.000000  0.000000  0.000000  \n",
       "\n",
       "[4 rows x 216 columns]"
      ]
     },
     "execution_count": 98,
     "metadata": {},
     "output_type": "execute_result"
    }
   ],
   "source": [
    "crosstab"
   ]
  },
  {
   "cell_type": "code",
   "execution_count": 99,
   "metadata": {
    "id": "FxfD0yJr2Kdk",
    "jupyter": {
     "outputs_hidden": false
    }
   },
   "outputs": [
    {
     "data": {
      "text/plain": [
       "<AxesSubplot:xlabel='level'>"
      ]
     },
     "execution_count": 99,
     "metadata": {},
     "output_type": "execute_result"
    },
    {
     "data": {
      "image/png": "[encoded data removed]",
      "text/plain": [
       "<Figure size 432x288 with 1 Axes>"
      ]
     },
     "metadata": {
      "needs_background": "light"
     },
     "output_type": "display_data"
    },
    {
     "data": {
      "image/png": "[encoded data removed]",
      "text/plain": [
       "<Figure size 432x288 with 1 Axes>"
      ]
     },
     "metadata": {
      "needs_background": "light"
     },
     "output_type": "display_data"
    }
   ],
   "source": [
    "crosstab.plot.bar(legend=False)\n",
    "crosstab.plot.bar(legend=False)"
   ]
  },
  {
   "cell_type": "markdown",
   "metadata": {},
   "source": [
    "W przypadku, gdy musisz zagregować lub podsumować dane przed sporządzeniem wykresu, użycie pakietu `seaborn` może znacznie uprościć zadanie. Przyjrzyjmy się procentowi porad dziennie przy użyciu biblioteki `seaborn`:"
   ]
  },
  {
   "cell_type": "code",
   "execution_count": 100,
   "metadata": {
    "id": "96uFRUfM2Kdk",
    "jupyter": {
     "outputs_hidden": false
    }
   },
   "outputs": [],
   "source": [
    "import seaborn as sns"
   ]
  },
  {
   "cell_type": "code",
   "execution_count": 102,
   "metadata": {},
   "outputs": [],
   "source": [
    "tips = pd.read_csv('tips.csv')"
   ]
  },
  {
   "cell_type": "code",
   "execution_count": 103,
   "metadata": {
    "id": "zTVxfc7f2Kdk",
    "jupyter": {
     "outputs_hidden": false
    }
   },
   "outputs": [],
   "source": [
    "tips['tip_pct'] = tips['tip']/(tips['total_bill'] - tips['tip'])"
   ]
  },
  {
   "cell_type": "code",
   "execution_count": 104,
   "metadata": {
    "id": "Nn5fY09j2Kdl",
    "jupyter": {
     "outputs_hidden": false
    }
   },
   "outputs": [
    {
     "data": {
      "text/html": [
       "<div>\n",
       "<style scoped>\n",
       "    .dataframe tbody tr th:only-of-type {\n",
       "        vertical-align: middle;\n",
       "    }\n",
       "\n",
       "    .dataframe tbody tr th {\n",
       "        vertical-align: top;\n",
       "    }\n",
       "\n",
       "    .dataframe thead th {\n",
       "        text-align: right;\n",
       "    }\n",
       "</style>\n",
       "<table border=\"1\" class=\"dataframe\">\n",
       "  <thead>\n",
       "    <tr style=\"text-align: right;\">\n",
       "      <th></th>\n",
       "      <th>total_bill</th>\n",
       "      <th>tip</th>\n",
       "      <th>sex</th>\n",
       "      <th>smoker</th>\n",
       "      <th>day</th>\n",
       "      <th>time</th>\n",
       "      <th>size</th>\n",
       "      <th>tip_pct</th>\n",
       "    </tr>\n",
       "  </thead>\n",
       "  <tbody>\n",
       "    <tr>\n",
       "      <th>0</th>\n",
       "      <td>16.99</td>\n",
       "      <td>1.01</td>\n",
       "      <td>Female</td>\n",
       "      <td>No</td>\n",
       "      <td>Sun</td>\n",
       "      <td>Dinner</td>\n",
       "      <td>2</td>\n",
       "      <td>0.063204</td>\n",
       "    </tr>\n",
       "    <tr>\n",
       "      <th>1</th>\n",
       "      <td>10.34</td>\n",
       "      <td>1.66</td>\n",
       "      <td>Male</td>\n",
       "      <td>No</td>\n",
       "      <td>Sun</td>\n",
       "      <td>Dinner</td>\n",
       "      <td>3</td>\n",
       "      <td>0.191244</td>\n",
       "    </tr>\n",
       "    <tr>\n",
       "      <th>2</th>\n",
       "      <td>21.01</td>\n",
       "      <td>3.50</td>\n",
       "      <td>Male</td>\n",
       "      <td>No</td>\n",
       "      <td>Sun</td>\n",
       "      <td>Dinner</td>\n",
       "      <td>3</td>\n",
       "      <td>0.199886</td>\n",
       "    </tr>\n",
       "    <tr>\n",
       "      <th>3</th>\n",
       "      <td>23.68</td>\n",
       "      <td>3.31</td>\n",
       "      <td>Male</td>\n",
       "      <td>No</td>\n",
       "      <td>Sun</td>\n",
       "      <td>Dinner</td>\n",
       "      <td>2</td>\n",
       "      <td>0.162494</td>\n",
       "    </tr>\n",
       "    <tr>\n",
       "      <th>4</th>\n",
       "      <td>24.59</td>\n",
       "      <td>3.61</td>\n",
       "      <td>Female</td>\n",
       "      <td>No</td>\n",
       "      <td>Sun</td>\n",
       "      <td>Dinner</td>\n",
       "      <td>4</td>\n",
       "      <td>0.172069</td>\n",
       "    </tr>\n",
       "  </tbody>\n",
       "</table>\n",
       "</div>"
      ],
      "text/plain": [
       "   total_bill   tip     sex smoker  day    time  size   tip_pct\n",
       "0       16.99  1.01  Female     No  Sun  Dinner     2  0.063204\n",
       "1       10.34  1.66    Male     No  Sun  Dinner     3  0.191244\n",
       "2       21.01  3.50    Male     No  Sun  Dinner     3  0.199886\n",
       "3       23.68  3.31    Male     No  Sun  Dinner     2  0.162494\n",
       "4       24.59  3.61  Female     No  Sun  Dinner     4  0.172069"
      ]
     },
     "execution_count": 104,
     "metadata": {},
     "output_type": "execute_result"
    }
   ],
   "source": [
    "tips.head()"
   ]
  },
  {
   "cell_type": "code",
   "execution_count": 105,
   "metadata": {
    "id": "vUZ8h-vc2Kdl",
    "jupyter": {
     "outputs_hidden": false
    }
   },
   "outputs": [
    {
     "data": {
      "text/plain": [
       "<AxesSubplot:xlabel='tip_pct', ylabel='day'>"
      ]
     },
     "execution_count": 105,
     "metadata": {},
     "output_type": "execute_result"
    },
    {
     "data": {
      "image/png": "[encoded data removed]",
      "text/plain": [
       "<Figure size 432x288 with 1 Axes>"
      ]
     },
     "metadata": {
      "needs_background": "light"
     },
     "output_type": "display_data"
    }
   ],
   "source": [
    "sns.barplot(x='tip_pct', y='day', data=tips, orient='h')"
   ]
  },
  {
   "cell_type": "markdown",
   "metadata": {
    "id": "d7YX3HJp2Kdl"
   },
   "source": [
    "# Histogramy i wykresy gęstości rozkładu\n",
    "\n",
    "*Histogram* to rodzaj wykresu słupkowego, który dyskretnie wyświetla częstotliwość wartości."
   ]
  },
  {
   "cell_type": "code",
   "execution_count": 107,
   "metadata": {},
   "outputs": [
    {
     "data": {
      "text/plain": [
       "<AxesSubplot:ylabel='Frequency'>"
      ]
     },
     "execution_count": 107,
     "metadata": {},
     "output_type": "execute_result"
    },
    {
     "data": {
      "image/png": "[encoded data removed]",
      "text/plain": [
       "<Figure size 432x288 with 1 Axes>"
      ]
     },
     "metadata": {
      "needs_background": "light"
     },
     "output_type": "display_data"
    }
   ],
   "source": [
    "tips['tip_pct'].plot.hist(bins=50)"
   ]
  },
  {
   "cell_type": "code",
   "execution_count": 108,
   "metadata": {
    "id": "TSQzZEP12Kdm",
    "jupyter": {
     "outputs_hidden": false
    }
   },
   "outputs": [
    {
     "data": {
      "text/plain": [
       "<AxesSubplot:ylabel='Density'>"
      ]
     },
     "execution_count": 108,
     "metadata": {},
     "output_type": "execute_result"
    },
    {
     "data": {
      "image/png": "[encoded data removed]",
      "text/plain": [
       "<Figure size 432x288 with 1 Axes>"
      ]
     },
     "metadata": {
      "needs_background": "light"
     },
     "output_type": "display_data"
    }
   ],
   "source": [
    "tips['tip_pct'].plot.kde()"
   ]
  },
  {
   "cell_type": "markdown",
   "metadata": {
    "id": "3d8e7Hn02Kdm"
   },
   "source": [
    "Biblioteka `seaborn` ułatwia tworzenie histogramów i wykresów gęstości za pomocą metody `distplot`, która pozwala na jednoczesne wykreślenie histogramu i ciągłej oceny gęstości."
   ]
  },
  {
   "cell_type": "code",
   "execution_count": 109,
   "metadata": {
    "id": "Ayp6SIYT2Kdm",
    "jupyter": {
     "outputs_hidden": false
    }
   },
   "outputs": [],
   "source": [
    "comp1 = np.random.normal(0, 1, size=200)\n",
    "comp2 = np.random.normal(10, 2, size=200)\n",
    "values = pd.Series(np.concatenate([comp1, comp2]))"
   ]
  },
  {
   "cell_type": "code",
   "execution_count": 110,
   "metadata": {
    "id": "GCOR9djM2Kdm",
    "jupyter": {
     "outputs_hidden": false
    }
   },
   "outputs": [
    {
     "name": "stderr",
     "output_type": "stream",
     "text": [
      "C:\\ProgramData\\Anaconda3\\lib\\site-packages\\seaborn\\distributions.py:2619: FutureWarning: `distplot` is a deprecated function and will be removed in a future version. Please adapt your code to use either `displot` (a figure-level function with similar flexibility) or `histplot` (an axes-level function for histograms).\n",
      "  warnings.warn(msg, FutureWarning)\n"
     ]
    },
    {
     "data": {
      "text/plain": [
       "<AxesSubplot:ylabel='Density'>"
      ]
     },
     "execution_count": 110,
     "metadata": {},
     "output_type": "execute_result"
    },
    {
     "data": {
      "image/png": "[encoded data removed]",
      "text/plain": [
       "<Figure size 432x288 with 1 Axes>"
      ]
     },
     "metadata": {
      "needs_background": "light"
     },
     "output_type": "display_data"
    }
   ],
   "source": [
    "sns.distplot(values, bins=100, color='k')"
   ]
  },
  {
   "cell_type": "markdown",
   "metadata": {},
   "source": [
    "## Wykresy punktowe lub wykresy bitowe\n",
    "\n",
    "Wykresy rozrzutu są przydatne do badania relacji między dwiema jednowymiarowymi seriami danych.\n"
   ]
  },
  {
   "cell_type": "code",
   "execution_count": 113,
   "metadata": {
    "id": "PMiQLL1p2Kdn",
    "jupyter": {
     "outputs_hidden": false
    }
   },
   "outputs": [
    {
     "data": {
      "text/html": [
       "<div>\n",
       "<style scoped>\n",
       "    .dataframe tbody tr th:only-of-type {\n",
       "        vertical-align: middle;\n",
       "    }\n",
       "\n",
       "    .dataframe tbody tr th {\n",
       "        vertical-align: top;\n",
       "    }\n",
       "\n",
       "    .dataframe thead th {\n",
       "        text-align: right;\n",
       "    }\n",
       "</style>\n",
       "<table border=\"1\" class=\"dataframe\">\n",
       "  <thead>\n",
       "    <tr style=\"text-align: right;\">\n",
       "      <th></th>\n",
       "      <th>location_id</th>\n",
       "      <th>location_name</th>\n",
       "      <th>iso3</th>\n",
       "      <th>level</th>\n",
       "      <th>year</th>\n",
       "      <th>gdp_ppp_mean</th>\n",
       "      <th>gdp_ppp_lower</th>\n",
       "      <th>gdp_ppp_upper</th>\n",
       "      <th>gdp_usd_mean</th>\n",
       "      <th>gdp_usd_lower</th>\n",
       "      <th>gdp_usd_upper</th>\n",
       "    </tr>\n",
       "  </thead>\n",
       "  <tbody>\n",
       "    <tr>\n",
       "      <th>0</th>\n",
       "      <td>1</td>\n",
       "      <td>Global</td>\n",
       "      <td>G</td>\n",
       "      <td>Global</td>\n",
       "      <td>1960</td>\n",
       "      <td>1.748345e+13</td>\n",
       "      <td>1.601915e+13</td>\n",
       "      <td>1.911586e+13</td>\n",
       "      <td>1.296863e+13</td>\n",
       "      <td>1.266890e+13</td>\n",
       "      <td>1.334177e+13</td>\n",
       "    </tr>\n",
       "    <tr>\n",
       "      <th>1</th>\n",
       "      <td>1</td>\n",
       "      <td>Global</td>\n",
       "      <td>G</td>\n",
       "      <td>Global</td>\n",
       "      <td>1961</td>\n",
       "      <td>1.813537e+13</td>\n",
       "      <td>1.659537e+13</td>\n",
       "      <td>1.982493e+13</td>\n",
       "      <td>1.346097e+13</td>\n",
       "      <td>1.314767e+13</td>\n",
       "      <td>1.383021e+13</td>\n",
       "    </tr>\n",
       "    <tr>\n",
       "      <th>2</th>\n",
       "      <td>1</td>\n",
       "      <td>Global</td>\n",
       "      <td>G</td>\n",
       "      <td>Global</td>\n",
       "      <td>1962</td>\n",
       "      <td>1.895328e+13</td>\n",
       "      <td>1.739039e+13</td>\n",
       "      <td>2.061477e+13</td>\n",
       "      <td>1.406576e+13</td>\n",
       "      <td>1.376060e+13</td>\n",
       "      <td>1.443746e+13</td>\n",
       "    </tr>\n",
       "    <tr>\n",
       "      <th>3</th>\n",
       "      <td>1</td>\n",
       "      <td>Global</td>\n",
       "      <td>G</td>\n",
       "      <td>Global</td>\n",
       "      <td>1963</td>\n",
       "      <td>1.965662e+13</td>\n",
       "      <td>1.811706e+13</td>\n",
       "      <td>2.134993e+13</td>\n",
       "      <td>1.461831e+13</td>\n",
       "      <td>1.432132e+13</td>\n",
       "      <td>1.497693e+13</td>\n",
       "    </tr>\n",
       "    <tr>\n",
       "      <th>4</th>\n",
       "      <td>1</td>\n",
       "      <td>Global</td>\n",
       "      <td>G</td>\n",
       "      <td>Global</td>\n",
       "      <td>1964</td>\n",
       "      <td>2.100575e+13</td>\n",
       "      <td>1.935664e+13</td>\n",
       "      <td>2.276791e+13</td>\n",
       "      <td>1.552986e+13</td>\n",
       "      <td>1.523498e+13</td>\n",
       "      <td>1.587998e+13</td>\n",
       "    </tr>\n",
       "    <tr>\n",
       "      <th>...</th>\n",
       "      <td>...</td>\n",
       "      <td>...</td>\n",
       "      <td>...</td>\n",
       "      <td>...</td>\n",
       "      <td>...</td>\n",
       "      <td>...</td>\n",
       "      <td>...</td>\n",
       "      <td>...</td>\n",
       "      <td>...</td>\n",
       "      <td>...</td>\n",
       "      <td>...</td>\n",
       "    </tr>\n",
       "    <tr>\n",
       "      <th>19833</th>\n",
       "      <td>44578</td>\n",
       "      <td>Low income</td>\n",
       "      <td>NaN</td>\n",
       "      <td>World Bank Income Group</td>\n",
       "      <td>2046</td>\n",
       "      <td>3.617310e+12</td>\n",
       "      <td>3.140835e+12</td>\n",
       "      <td>4.166469e+12</td>\n",
       "      <td>1.149318e+12</td>\n",
       "      <td>1.031500e+12</td>\n",
       "      <td>1.271992e+12</td>\n",
       "    </tr>\n",
       "    <tr>\n",
       "      <th>19834</th>\n",
       "      <td>44578</td>\n",
       "      <td>Low income</td>\n",
       "      <td>NaN</td>\n",
       "      <td>World Bank Income Group</td>\n",
       "      <td>2047</td>\n",
       "      <td>3.724063e+12</td>\n",
       "      <td>3.225849e+12</td>\n",
       "      <td>4.292403e+12</td>\n",
       "      <td>1.186597e+12</td>\n",
       "      <td>1.061313e+12</td>\n",
       "      <td>1.318836e+12</td>\n",
       "    </tr>\n",
       "    <tr>\n",
       "      <th>19835</th>\n",
       "      <td>44578</td>\n",
       "      <td>Low income</td>\n",
       "      <td>NaN</td>\n",
       "      <td>World Bank Income Group</td>\n",
       "      <td>2048</td>\n",
       "      <td>3.831942e+12</td>\n",
       "      <td>3.307609e+12</td>\n",
       "      <td>4.424674e+12</td>\n",
       "      <td>1.224062e+12</td>\n",
       "      <td>1.092874e+12</td>\n",
       "      <td>1.365610e+12</td>\n",
       "    </tr>\n",
       "    <tr>\n",
       "      <th>19836</th>\n",
       "      <td>44578</td>\n",
       "      <td>Low income</td>\n",
       "      <td>NaN</td>\n",
       "      <td>World Bank Income Group</td>\n",
       "      <td>2049</td>\n",
       "      <td>3.941856e+12</td>\n",
       "      <td>3.398884e+12</td>\n",
       "      <td>4.560961e+12</td>\n",
       "      <td>1.262129e+12</td>\n",
       "      <td>1.122895e+12</td>\n",
       "      <td>1.413991e+12</td>\n",
       "    </tr>\n",
       "    <tr>\n",
       "      <th>19837</th>\n",
       "      <td>44578</td>\n",
       "      <td>Low income</td>\n",
       "      <td>NaN</td>\n",
       "      <td>World Bank Income Group</td>\n",
       "      <td>2050</td>\n",
       "      <td>4.053883e+12</td>\n",
       "      <td>3.482933e+12</td>\n",
       "      <td>4.713596e+12</td>\n",
       "      <td>1.300764e+12</td>\n",
       "      <td>1.151548e+12</td>\n",
       "      <td>1.457362e+12</td>\n",
       "    </tr>\n",
       "  </tbody>\n",
       "</table>\n",
       "<p>19838 rows × 11 columns</p>\n",
       "</div>"
      ],
      "text/plain": [
       "       location_id location_name iso3                    level  year  \\\n",
       "0                1        Global    G                   Global  1960   \n",
       "1                1        Global    G                   Global  1961   \n",
       "2                1        Global    G                   Global  1962   \n",
       "3                1        Global    G                   Global  1963   \n",
       "4                1        Global    G                   Global  1964   \n",
       "...            ...           ...  ...                      ...   ...   \n",
       "19833        44578    Low income  NaN  World Bank Income Group  2046   \n",
       "19834        44578    Low income  NaN  World Bank Income Group  2047   \n",
       "19835        44578    Low income  NaN  World Bank Income Group  2048   \n",
       "19836        44578    Low income  NaN  World Bank Income Group  2049   \n",
       "19837        44578    Low income  NaN  World Bank Income Group  2050   \n",
       "\n",
       "       gdp_ppp_mean  gdp_ppp_lower  gdp_ppp_upper  gdp_usd_mean  \\\n",
       "0      1.748345e+13   1.601915e+13   1.911586e+13  1.296863e+13   \n",
       "1      1.813537e+13   1.659537e+13   1.982493e+13  1.346097e+13   \n",
       "2      1.895328e+13   1.739039e+13   2.061477e+13  1.406576e+13   \n",
       "3      1.965662e+13   1.811706e+13   2.134993e+13  1.461831e+13   \n",
       "4      2.100575e+13   1.935664e+13   2.276791e+13  1.552986e+13   \n",
       "...             ...            ...            ...           ...   \n",
       "19833  3.617310e+12   3.140835e+12   4.166469e+12  1.149318e+12   \n",
       "19834  3.724063e+12   3.225849e+12   4.292403e+12  1.186597e+12   \n",
       "19835  3.831942e+12   3.307609e+12   4.424674e+12  1.224062e+12   \n",
       "19836  3.941856e+12   3.398884e+12   4.560961e+12  1.262129e+12   \n",
       "19837  4.053883e+12   3.482933e+12   4.713596e+12  1.300764e+12   \n",
       "\n",
       "       gdp_usd_lower  gdp_usd_upper  \n",
       "0       1.266890e+13   1.334177e+13  \n",
       "1       1.314767e+13   1.383021e+13  \n",
       "2       1.376060e+13   1.443746e+13  \n",
       "3       1.432132e+13   1.497693e+13  \n",
       "4       1.523498e+13   1.587998e+13  \n",
       "...              ...            ...  \n",
       "19833   1.031500e+12   1.271992e+12  \n",
       "19834   1.061313e+12   1.318836e+12  \n",
       "19835   1.092874e+12   1.365610e+12  \n",
       "19836   1.122895e+12   1.413991e+12  \n",
       "19837   1.151548e+12   1.457362e+12  \n",
       "\n",
       "[19838 rows x 11 columns]"
      ]
     },
     "execution_count": 113,
     "metadata": {},
     "output_type": "execute_result"
    }
   ],
   "source": [
    "macro = pd.read_csv ( \"IHME_GDP_1960_2050_Y2021M09D22.csv\", encoding='latin1')\n",
    "macro"
   ]
  },
  {
   "cell_type": "code",
   "execution_count": 115,
   "metadata": {
    "id": "85HweFQW2Kdn",
    "jupyter": {
     "outputs_hidden": false
    }
   },
   "outputs": [
    {
     "data": {
      "text/html": [
       "<div>\n",
       "<style scoped>\n",
       "    .dataframe tbody tr th:only-of-type {\n",
       "        vertical-align: middle;\n",
       "    }\n",
       "\n",
       "    .dataframe tbody tr th {\n",
       "        vertical-align: top;\n",
       "    }\n",
       "\n",
       "    .dataframe thead th {\n",
       "        text-align: right;\n",
       "    }\n",
       "</style>\n",
       "<table border=\"1\" class=\"dataframe\">\n",
       "  <thead>\n",
       "    <tr style=\"text-align: right;\">\n",
       "      <th></th>\n",
       "      <th>gdp_ppp_mean</th>\n",
       "      <th>gdp_ppp_lower</th>\n",
       "      <th>gdp_ppp_upper</th>\n",
       "    </tr>\n",
       "  </thead>\n",
       "  <tbody>\n",
       "    <tr>\n",
       "      <th>3913</th>\n",
       "      <td>6477.852541</td>\n",
       "      <td>3974.353115</td>\n",
       "      <td>8867.341510</td>\n",
       "    </tr>\n",
       "    <tr>\n",
       "      <th>3914</th>\n",
       "      <td>6854.160388</td>\n",
       "      <td>4209.334194</td>\n",
       "      <td>9266.617081</td>\n",
       "    </tr>\n",
       "    <tr>\n",
       "      <th>3915</th>\n",
       "      <td>6696.268564</td>\n",
       "      <td>4137.676353</td>\n",
       "      <td>9056.936779</td>\n",
       "    </tr>\n",
       "    <tr>\n",
       "      <th>3916</th>\n",
       "      <td>6981.908383</td>\n",
       "      <td>4381.353870</td>\n",
       "      <td>9390.144726</td>\n",
       "    </tr>\n",
       "    <tr>\n",
       "      <th>3917</th>\n",
       "      <td>7192.051449</td>\n",
       "      <td>4537.064677</td>\n",
       "      <td>9677.839801</td>\n",
       "    </tr>\n",
       "    <tr>\n",
       "      <th>...</th>\n",
       "      <td>...</td>\n",
       "      <td>...</td>\n",
       "      <td>...</td>\n",
       "    </tr>\n",
       "    <tr>\n",
       "      <th>3999</th>\n",
       "      <td>38341.602497</td>\n",
       "      <td>28096.663520</td>\n",
       "      <td>51449.445517</td>\n",
       "    </tr>\n",
       "    <tr>\n",
       "      <th>4000</th>\n",
       "      <td>38361.930630</td>\n",
       "      <td>27796.090370</td>\n",
       "      <td>52186.079877</td>\n",
       "    </tr>\n",
       "    <tr>\n",
       "      <th>4001</th>\n",
       "      <td>38342.127372</td>\n",
       "      <td>27466.932992</td>\n",
       "      <td>52654.694631</td>\n",
       "    </tr>\n",
       "    <tr>\n",
       "      <th>4002</th>\n",
       "      <td>38291.223003</td>\n",
       "      <td>27105.252343</td>\n",
       "      <td>53056.023696</td>\n",
       "    </tr>\n",
       "    <tr>\n",
       "      <th>4003</th>\n",
       "      <td>38239.561147</td>\n",
       "      <td>26728.543779</td>\n",
       "      <td>53156.930801</td>\n",
       "    </tr>\n",
       "  </tbody>\n",
       "</table>\n",
       "<p>91 rows × 3 columns</p>\n",
       "</div>"
      ],
      "text/plain": [
       "      gdp_ppp_mean  gdp_ppp_lower  gdp_ppp_upper\n",
       "3913   6477.852541    3974.353115    8867.341510\n",
       "3914   6854.160388    4209.334194    9266.617081\n",
       "3915   6696.268564    4137.676353    9056.936779\n",
       "3916   6981.908383    4381.353870    9390.144726\n",
       "3917   7192.051449    4537.064677    9677.839801\n",
       "...            ...            ...            ...\n",
       "3999  38341.602497   28096.663520   51449.445517\n",
       "4000  38361.930630   27796.090370   52186.079877\n",
       "4001  38342.127372   27466.932992   52654.694631\n",
       "4002  38291.223003   27105.252343   53056.023696\n",
       "4003  38239.561147   26728.543779   53156.930801\n",
       "\n",
       "[91 rows x 3 columns]"
      ]
     },
     "execution_count": 115,
     "metadata": {},
     "output_type": "execute_result"
    }
   ],
   "source": [
    "macro=macro[macro['location_name'].isin(['Poland'])]\n",
    "data = macro[['gdp_ppp_mean', 'gdp_ppp_lower','gdp_ppp_upper']]\n",
    "data"
   ]
  },
  {
   "cell_type": "code",
   "execution_count": 116,
   "metadata": {
    "id": "f7zh94Z12Kdn",
    "jupyter": {
     "outputs_hidden": false
    }
   },
   "outputs": [],
   "source": [
    "trans_data = np.log(data).diff().dropna()"
   ]
  },
  {
   "cell_type": "markdown",
   "metadata": {
    "id": "hSzAVOBh2Kdo"
   },
   "source": [
    "Teraz użyjmy funkcji `regplot` biblioteki `seaborn`, która kreśli wykresy punktowe i oferuje wykres regresji liniowej:"
   ]
  },
  {
   "cell_type": "code",
   "execution_count": 118,
   "metadata": {
    "id": "mPeU7FBA2Kdo",
    "jupyter": {
     "outputs_hidden": false
    }
   },
   "outputs": [
    {
     "data": {
      "text/plain": [
       "Text(0.5, 1.0, 'Zależność $\\\\log$ gdp_ppp_lower od $\\\\log$ gdp_ppp_upper')"
      ]
     },
     "execution_count": 118,
     "metadata": {},
     "output_type": "execute_result"
    },
    {
     "data": {
      "image/png": "[encoded data removed]",
      "text/plain": [
       "<Figure size 432x288 with 1 Axes>"
      ]
     },
     "metadata": {
      "needs_background": "light"
     },
     "output_type": "display_data"
    }
   ],
   "source": [
    "sns.regplot(x='gdp_ppp_lower', y='gdp_ppp_upper', data=trans_data)\n",
    "plt.title('Zależność $\\log$ {} od $\\log$ {}'.format('gdp_ppp_lower', 'gdp_ppp_upper'))"
   ]
  },
  {
   "cell_type": "markdown",
   "metadata": {
    "id": "vDCPMj5F2Kdo"
   },
   "source": [
    "Podczas analizy danych przydatna jest możliwość przeglądania wszystkich wykresów rozrzutu w grupie zmiennych, tj. *wykresy sparowane* lub *macierz wykresów rozrzutu*. Biblioteka `seaborn` ma do tego wygodną funkcję `pairplot`, która w szczególności obsługuje umieszczanie histogramów lub oszacowań gęstości każdej zmiennej wzdłuż przekątnej:"
   ]
  },
  {
   "cell_type": "code",
   "execution_count": 119,
   "metadata": {
    "id": "HszjZamz2Kdo",
    "jupyter": {
     "outputs_hidden": false
    }
   },
   "outputs": [
    {
     "data": {
      "text/plain": [
       "<seaborn.axisgrid.PairGrid at 0x1c842d3a3d0>"
      ]
     },
     "execution_count": 119,
     "metadata": {},
     "output_type": "execute_result"
    },
    {
     "data": {
      "image/png": "[encoded data removed]",
      "text/plain": [
       "<Figure size 540x540 with 12 Axes>"
      ]
     },
     "metadata": {
      "needs_background": "light"
     },
     "output_type": "display_data"
    }
   ],
   "source": [
    "sns.pairplot(trans_data, diag_kind='kde', plot_kws={'alpha': 0.2})"
   ]
  },
  {
   "cell_type": "markdown",
   "metadata": {
    "id": "kfflAD7M2Kdp"
   },
   "source": [
    "## Dane kategoryczne\n",
    "\n",
    "Jednym ze sposobów wizualizacji danych z wieloma zmiennymi kategorialnymi jest użycie *siatki aspektów*. "
   ]
  },
  {
   "cell_type": "code",
   "execution_count": 120,
   "metadata": {
    "id": "QfsVR6P72Kdr",
    "jupyter": {
     "outputs_hidden": false
    }
   },
   "outputs": [
    {
     "data": {
      "text/plain": [
       "<seaborn.axisgrid.FacetGrid at 0x1c842d90370>"
      ]
     },
     "execution_count": 120,
     "metadata": {},
     "output_type": "execute_result"
    },
    {
     "data": {
      "image/png": "[encoded data removed]",
      "text/plain": [
       "<Figure size 789.625x360 with 2 Axes>"
      ]
     },
     "metadata": {
      "needs_background": "light"
     },
     "output_type": "display_data"
    }
   ],
   "source": [
    "sns.catplot(x='day', y='tip_pct', hue='time', col='smoker', kind='bar', data=tips[tips.tip_pct < 1])"
   ]
  },
  {
   "cell_type": "markdown",
   "metadata": {
    "id": "6uF4pTWk2Kdr"
   },
   "source": [
    "Zamiast wyświetlać różne kolory kolumn wykresu w aspekcie, możemy również rozszerzyć siatkę aspektów, dodając jeden wiersz naraz:"
   ]
  },
  {
   "cell_type": "code",
   "execution_count": 121,
   "metadata": {
    "id": "NiWvVaGK2Kdr",
    "jupyter": {
     "outputs_hidden": false
    }
   },
   "outputs": [
    {
     "data": {
      "text/plain": [
       "<seaborn.axisgrid.FacetGrid at 0x1c84347f730>"
      ]
     },
     "execution_count": 121,
     "metadata": {},
     "output_type": "execute_result"
    },
    {
     "data": {
      "image/png": "[encoded data removed]",
      "text/plain": [
       "<Figure size 720x720 with 4 Axes>"
      ]
     },
     "metadata": {
      "needs_background": "light"
     },
     "output_type": "display_data"
    }
   ],
   "source": [
    "sns.catplot(x='day', y='tip_pct', row='time', col='smoker', kind='bar', data=tips[tips.tip_pct < 1])"
   ]
  },
  {
   "cell_type": "markdown",
   "metadata": {
    "id": "auu6tIav2Kds"
   },
   "source": [
    "Funkcja `catplot` obsługuje inne rodzaje wykresów, które mogą być przydatne. Na przykład wykresy blokowe przedstawiające medianę, kwartyle i wartości odstające:"
   ]
  },
  {
   "cell_type": "code",
   "execution_count": 122,
   "metadata": {
    "id": "txv-73Ck2Kdt",
    "jupyter": {
     "outputs_hidden": false
    }
   },
   "outputs": [
    {
     "data": {
      "text/plain": [
       "<seaborn.axisgrid.FacetGrid at 0x1c843592610>"
      ]
     },
     "execution_count": 122,
     "metadata": {},
     "output_type": "execute_result"
    },
    {
     "data": {
      "image/png": "[encoded data removed]",
      "text/plain": [
       "<Figure size 360x360 with 1 Axes>"
      ]
     },
     "metadata": {
      "needs_background": "light"
     },
     "output_type": "display_data"
    }
   ],
   "source": [
    "sns.catplot(x='tip_pct', y='day', kind='box', data=tips[tips.tip_pct < 0.5])"
   ]
  }
 ],
 "metadata": {
  "colab": {
   "name": "Kopia notatnika visual.ipynb",
   "provenance": [
    {
     "file_id": "https://github.com/slemeshevsky/python-course-ipynb/blob/master/visual.ipynb",
     "timestamp": 1634367150657
    }
   ]
  },
  "kernelspec": {
   "display_name": "Python 3 (ipykernel)",
   "language": "python",
   "name": "python3"
  },
  "language_info": {
   "codemirror_mode": {
    "name": "ipython",
    "version": 3
   },
   "file_extension": ".py",
   "mimetype": "text/x-python",
   "name": "python",
   "nbconvert_exporter": "python",
   "pygments_lexer": "ipython3",
   "version": "3.9.12"
  },
  "vscode": {
   "interpreter": {
    "hash": "72b7d60aa97258c0236078a412f597b1f0692a71c7bb0fe23d26dcc5807a4820"
   }
  }
 },
 "nbformat": 4,
 "nbformat_minor": 4
}
