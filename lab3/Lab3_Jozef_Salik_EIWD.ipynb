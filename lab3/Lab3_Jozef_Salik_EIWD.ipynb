{
 "cells": [
  {
   "cell_type": "markdown",
   "id": "5abd3bd4-3bbb-4245-bcb4-cd3305991df8",
   "metadata": {},
   "source": [
    "## Konfigurowanie środowiska w Anaconda"
   ]
  },
  {
   "cell_type": "markdown",
   "id": "06a7b056-b609-49da-ae55-9e5b2c19ea0c",
   "metadata": {},
   "source": [
    "Zaistalowano java, spark.., wg https://www.youtube.com/watch?v=NFpW6JgNaQk oraz https://changhsinlee.com/install-pyspark-windows-jupyter/"
   ]
  },
  {
   "cell_type": "code",
   "execution_count": 2,
   "id": "30643e75",
   "metadata": {},
   "outputs": [
    {
     "name": "stdout",
     "output_type": "stream",
     "text": [
      "Defaulting to user installation because normal site-packages is not writeable\n",
      "Requirement already satisfied: pyspark in c:\\users\\jozek\\appdata\\roaming\\python\\python39\\site-packages (3.3.1)\n",
      "Requirement already satisfied: py4j in c:\\users\\jozek\\appdata\\roaming\\python\\python39\\site-packages (0.10.9.5)\n"
     ]
    }
   ],
   "source": [
    "# Polecenie do zainstalowania pyspark py4j pakietów:\n",
    "\n",
    "! pip install pyspark py4j"
   ]
  },
  {
   "cell_type": "markdown",
   "id": "62d45efc-c636-40c3-9d82-79e158c89317",
   "metadata": {},
   "source": [
    "## Tworzenie SparkSession\n",
    "\n",
    "\n",
    "Przykładowa sesjia SparkSession:"
   ]
  },
  {
   "cell_type": "code",
   "execution_count": 7,
   "id": "fd824ae2",
   "metadata": {},
   "outputs": [],
   "source": [
    "from pyspark.sql import SparkSession\n",
    "\n",
    "spark = SparkSession.builder\\\n",
    "        .master(\"local[*]\")\\\n",
    "        .appName('PySpark_Tutorial')\\\n",
    "        .getOrCreate()\n"
   ]
  },
  {
   "cell_type": "markdown",
   "id": "7871f26d-0445-4ce2-946f-9427e7facf55",
   "metadata": {},
   "source": [
    "## Czytanie danych\n",
    "Za pomocą `spark.read` możemy odczytywać dane z plików różnych formatów, takich jak CSV, JSON, Parquet i inne. Oto kilka przykładów pobierania danych z plików:"
   ]
  },
  {
   "cell_type": "code",
   "execution_count": 10,
   "id": "1cd797e3-3b58-4d1a-9b5c-cd1cef0091ea",
   "metadata": {},
   "outputs": [],
   "source": [
    "# Czytanie CSV plika\n",
    "csv_file = 'IHME_GDP_1960_2050_Y2021M09D22.csv'\n",
    "df = spark.read.csv(csv_file)\n",
    "\n",
    "# Czytanie JSON plika\n",
    "#json_file = 'data/unece.json'\n",
    "#data = spark.read.json(json_file)\n",
    "\n",
    "# Czytanie parquet plika\n",
    "#parquet_file = 'data/pems_parquet/pems_sorted/station=402260/part-r-00000-ddaee723-f3f6-4f25-a34b-3312172aa6d7.snappy.parquet'\n",
    "#data1 = spark.read.parquet(parquet_file)"
   ]
  },
  {
   "cell_type": "markdown",
   "id": "8e251d7b-a9e1-48ef-af68-ba16f0a5b323",
   "metadata": {},
   "source": [
    "## Pobieranie danych za pomocą URL\n",
    "\n"
   ]
  },
  {
   "cell_type": "code",
   "execution_count": 11,
   "id": "58070f1d-a92f-4b8d-89a3-e79c8e9cda30",
   "metadata": {},
   "outputs": [],
   "source": [
    "from pyspark import SparkFiles\n",
    "\n",
    "spark.sparkContext.addFile('https://storage.covid19datahub.io/level/1.csv')\n",
    "\n",
    "df = spark.read.csv(SparkFiles.get(\"1.csv\"), header=True)"
   ]
  },
  {
   "cell_type": "markdown",
   "id": "9d0d97ef-1271-40d4-a1f8-a7e1149253f8",
   "metadata": {},
   "source": [
    "# Strukturyzacja danych za pomocą schematu Spark"
   ]
  },
  {
   "cell_type": "markdown",
   "id": "da39e04a-9f1d-4cf4-a5d2-300e48b98ccb",
   "metadata": {},
   "source": [
    "Kod do odczytu danych w formacie pliku CSV:"
   ]
  },
  {
   "cell_type": "code",
   "execution_count": 28,
   "id": "31283be5-09cb-4ec0-a0ec-d7c4d3fbc874",
   "metadata": {},
   "outputs": [
    {
     "name": "stdout",
     "output_type": "stream",
     "text": [
      "root\n",
      " |-- location_id: string (nullable = true)\n",
      " |-- location_name: string (nullable = true)\n",
      " |-- iso3: string (nullable = true)\n",
      " |-- level: string (nullable = true)\n",
      " |-- year: string (nullable = true)\n",
      " |-- gdp_ppp_mean: string (nullable = true)\n",
      " |-- gdp_ppp_lower: string (nullable = true)\n",
      " |-- gdp_ppp_upper: string (nullable = true)\n",
      " |-- gdp_usd_mean: string (nullable = true)\n",
      " |-- gdp_usd_lower: string (nullable = true)\n",
      " |-- gdp_usd_upper: string (nullable = true)\n",
      "\n"
     ]
    }
   ],
   "source": [
    "data = spark.read.csv(\n",
    "    'IHME_GDP_1960_2050_Y2021M09D22.csv',\n",
    "    sep=',',\n",
    "    header=True,\n",
    ")\n",
    "\n",
    "data.printSchema()"
   ]
  },
  {
   "cell_type": "markdown",
   "id": "1f30c850",
   "metadata": {},
   "source": [
    "Precyzowanie struktury danych. Poniższy kod tworzy strukturę danych za pomocą StructType i StructField"
   ]
  },
  {
   "cell_type": "code",
   "execution_count": 32,
   "id": "b5081df2-8950-4b56-bb7f-5b413b6913bd",
   "metadata": {},
   "outputs": [
    {
     "name": "stdout",
     "output_type": "stream",
     "text": [
      "root\n",
      " |-- location_id: integer (nullable = true)\n",
      " |-- location_name: string (nullable = true)\n",
      " |-- iso3: string (nullable = true)\n",
      " |-- level: string (nullable = true)\n",
      " |-- year: integer (nullable = true)\n",
      " |-- gdp_ppp_mean: double (nullable = true)\n",
      " |-- gdp_ppp_lower: double (nullable = true)\n",
      " |-- gdp_ppp_upper: double (nullable = true)\n",
      " |-- gdp_usd_mean: double (nullable = true)\n",
      " |-- gdp_usd_lower: double (nullable = true)\n",
      " |-- gdp_usd_upper: double (nullable = true)\n",
      "\n"
     ]
    }
   ],
   "source": [
    "from pyspark.sql.types import *\n",
    "\n",
    "data_schema = [\n",
    "    StructField('location_id', IntegerType(), True),\n",
    "    StructField('location_name', StringType(), True),\n",
    "    StructField('iso3', StringType(), True),\n",
    "    StructField('level', StringType(), True),\n",
    "    StructField('year', IntegerType(), True),\n",
    "    StructField('gdp_ppp_mean', DoubleType(), True),\n",
    "    StructField('gdp_ppp_lower', DoubleType(), True),\n",
    "    StructField('gdp_ppp_upper', DoubleType(), True),\n",
    "    StructField('gdp_usd_mean', DoubleType(), True),\n",
    "    StructField('gdp_usd_lower', DoubleType(), True),\n",
    "    StructField('gdp_usd_upper', DoubleType(), True)]\n",
    "\n",
    "final_struc = StructType(fields = data_schema)\n",
    "\n",
    "data = spark.read.csv(\n",
    "    'IHME_GDP_1960_2050_Y2021M09D22.csv',\n",
    "    sep=',',\n",
    "    header=True,\n",
    "    schema=final_struc \n",
    ")\n",
    "\n",
    "data.printSchema()"
   ]
  },
  {
   "cell_type": "markdown",
   "id": "10d8b3ac",
   "metadata": {},
   "source": [
    "# Różne metody kontroli danych\n",
    "Dostępne są następujące metody kontroli danych: schema, dtypes, show, head, first, take, description, columns, count, different, printSchema. Przyjrzyjmy się im na przykładzie.\n",
    "\n",
    "`schema()`: Ta metoda zwraca schemat danych (ramka danych):"
   ]
  },
  {
   "cell_type": "code",
   "execution_count": 33,
   "id": "d73fbe20-89df-4b11-a7e9-cdd3f597ef35",
   "metadata": {},
   "outputs": [
    {
     "data": {
      "text/plain": [
       "StructType([StructField('location_id', IntegerType(), True), StructField('location_name', StringType(), True), StructField('iso3', StringType(), True), StructField('level', StringType(), True), StructField('year', IntegerType(), True), StructField('gdp_ppp_mean', DoubleType(), True), StructField('gdp_ppp_lower', DoubleType(), True), StructField('gdp_ppp_upper', DoubleType(), True), StructField('gdp_usd_mean', DoubleType(), True), StructField('gdp_usd_lower', DoubleType(), True), StructField('gdp_usd_upper', DoubleType(), True)])"
      ]
     },
     "execution_count": 33,
     "metadata": {},
     "output_type": "execute_result"
    }
   ],
   "source": [
    "data.schema"
   ]
  },
  {
   "cell_type": "markdown",
   "id": "2cf9e510-6619-4c27-b1be-d0f6e4d98942",
   "metadata": {},
   "source": [
    "`dtypes` zwraca listę krotek z nazwami kolumn i typami danych."
   ]
  },
  {
   "cell_type": "code",
   "execution_count": 34,
   "id": "8e7ae6f3-3057-4018-841b-89e237709110",
   "metadata": {},
   "outputs": [
    {
     "data": {
      "text/plain": [
       "[('location_id', 'int'),\n",
       " ('location_name', 'string'),\n",
       " ('iso3', 'string'),\n",
       " ('level', 'string'),\n",
       " ('year', 'int'),\n",
       " ('gdp_ppp_mean', 'double'),\n",
       " ('gdp_ppp_lower', 'double'),\n",
       " ('gdp_ppp_upper', 'double'),\n",
       " ('gdp_usd_mean', 'double'),\n",
       " ('gdp_usd_lower', 'double'),\n",
       " ('gdp_usd_upper', 'double')]"
      ]
     },
     "execution_count": 34,
     "metadata": {},
     "output_type": "execute_result"
    }
   ],
   "source": [
    "data.dtypes"
   ]
  },
  {
   "cell_type": "markdown",
   "id": "441074d2-1d8a-4094-b20b-bec1cbfaf9b6",
   "metadata": {},
   "source": [
    "`head(n)` zwraca n wierszy jako listę. Oto przykład:"
   ]
  },
  {
   "cell_type": "code",
   "execution_count": 35,
   "id": "d02d5ccd-cb9c-4140-9181-407c9e337315",
   "metadata": {},
   "outputs": [
    {
     "data": {
      "text/plain": [
       "[Row(location_id=1, location_name='Global', iso3='G', level='Global', year=1960, gdp_ppp_mean=17483449774122.9, gdp_ppp_lower=16019146112388.8, gdp_ppp_upper=19115862416823.5, gdp_usd_mean=12968625317543.8, gdp_usd_lower=12668903338177.2, gdp_usd_upper=13341765801289.3),\n",
       " Row(location_id=1, location_name='Global', iso3='G', level='Global', year=1961, gdp_ppp_mean=18135370554950.5, gdp_ppp_lower=16595371585758.2, gdp_ppp_upper=19824927264221.5, gdp_usd_mean=13460972883451.6, gdp_usd_lower=13147665079303.8, gdp_usd_upper=13830213685062.9),\n",
       " Row(location_id=1, location_name='Global', iso3='G', level='Global', year=1962, gdp_ppp_mean=18953278607513.5, gdp_ppp_lower=17390391432341.6, gdp_ppp_upper=20614772322197.6, gdp_usd_mean=14065757980933.9, gdp_usd_lower=13760596066680.6, gdp_usd_upper=14437458446538.0)]"
      ]
     },
     "execution_count": 35,
     "metadata": {},
     "output_type": "execute_result"
    }
   ],
   "source": [
    "data.head(3)"
   ]
  },
  {
   "cell_type": "markdown",
   "id": "14ca5232-3d5d-48bb-acbb-4be7f55bc43c",
   "metadata": {
    "tags": []
   },
   "source": [
    "- `show()` domyślnie wyświetla pierwsze 20 wierszy, a także przyjmuje liczbę jako parametr określający ich liczbę.\n",
    "- `first()` zwraca pierwszy wiersz danych.\n",
    "- `take(n)` zwraca pierwsze `n` wierszy.\n",
    "- `describe()` oblicza niektóre wartości statystyczne dla kolumn liczbowych.\n",
    "- `columns` zwraca listę zawierającą nazwy kolumn.\n",
    "- `count()` zwraca całkowitą liczbę wierszy w zestawie danych.\n",
    "- `differ()` to liczba odmiennych wierszy w używanym zbiorze danych.\n",
    "- `printSchema()` wyświetla schemat danych."
   ]
  },
  {
   "cell_type": "markdown",
   "id": "fa69ba3f-8e09-4c70-ac58-4f7fc77efe26",
   "metadata": {},
   "source": [
    "# Manipulacja kolumnami\n",
    "\n",
    "\n",
    "1. Dodawanie kolumny: użyj `withColumn`, aby dodać nową kolumnę do istniejących. Metoda przyjmuje dwa parametry: nazwę kolumny i dane"
   ]
  },
  {
   "cell_type": "code",
   "execution_count": 36,
   "id": "3bc73924-1b50-461f-92cd-b14422dc8613",
   "metadata": {},
   "outputs": [
    {
     "name": "stdout",
     "output_type": "stream",
     "text": [
      "+-----------+-------------+----+------+----+-------------------+-------------------+-------------------+-------------------+-------------------+-------------------+-------------------+\n",
      "|location_id|location_name|iso3| level|year|       gdp_ppp_mean|      gdp_ppp_lower|      gdp_ppp_upper|       gdp_usd_mean|      gdp_usd_lower|      gdp_usd_upper|localtion_name_copy|\n",
      "+-----------+-------------+----+------+----+-------------------+-------------------+-------------------+-------------------+-------------------+-------------------+-------------------+\n",
      "|          1|       Global|   G|Global|1960|1.74834497741229E13|1.60191461123888E13|1.91158624168235E13|1.29686253175438E13|1.26689033381772E13|1.33417658012893E13|             Global|\n",
      "|          1|       Global|   G|Global|1961|1.81353705549505E13|1.65953715857582E13|1.98249272642215E13|1.34609728834516E13|1.31476650793038E13|1.38302136850629E13|             Global|\n",
      "|          1|       Global|   G|Global|1962|1.89532786075135E13|1.73903914323416E13|2.06147723221976E13|1.40657579809339E13|1.37605960666806E13| 1.4437458446538E13|             Global|\n",
      "|          1|       Global|   G|Global|1963|1.96566205172959E13|1.81170577975165E13|2.13499344848797E13|1.46183109208764E13|1.43213212980444E13|1.49769271453144E13|             Global|\n",
      "|          1|       Global|   G|Global|1964|2.10057472286434E13|1.93566409860997E13|2.27679109341661E13|1.55298620546492E13|1.52349819730696E13|1.58799800439569E13|             Global|\n",
      "+-----------+-------------+----+------+----+-------------------+-------------------+-------------------+-------------------+-------------------+-------------------+-------------------+\n",
      "only showing top 5 rows\n",
      "\n"
     ]
    }
   ],
   "source": [
    "data = data.withColumn('localtion_name_copy', data.location_name)\n",
    "\n",
    "data.show(5)"
   ]
  },
  {
   "cell_type": "markdown",
   "id": "eccc62c4-55f4-4449-a4af-5d7eb1061c0d",
   "metadata": {},
   "source": [
    "2. Aktualizacja kolumny: użyj `withColumnRenamed`, aby zmienić nazwę istniejącej kolumny. Metoda przyjmuje dwa parametry: nazwę istniejącej kolumny i jej nową nazwę. Przykład:"
   ]
  },
  {
   "cell_type": "code",
   "execution_count": 37,
   "id": "e88abaf0-bcd0-4baa-87d4-9602168c9912",
   "metadata": {},
   "outputs": [
    {
     "name": "stdout",
     "output_type": "stream",
     "text": [
      "+-----------+-------------+----+------+----+-------------------+-------------------+-------------------+-------------------+-------------------+-------------------+--------+\n",
      "|location_id|location_name|iso3| level|year|       gdp_ppp_mean|      gdp_ppp_lower|      gdp_ppp_upper|       gdp_usd_mean|      gdp_usd_lower|      gdp_usd_upper|loc_copy|\n",
      "+-----------+-------------+----+------+----+-------------------+-------------------+-------------------+-------------------+-------------------+-------------------+--------+\n",
      "|          1|       Global|   G|Global|1960|1.74834497741229E13|1.60191461123888E13|1.91158624168235E13|1.29686253175438E13|1.26689033381772E13|1.33417658012893E13|  Global|\n",
      "|          1|       Global|   G|Global|1961|1.81353705549505E13|1.65953715857582E13|1.98249272642215E13|1.34609728834516E13|1.31476650793038E13|1.38302136850629E13|  Global|\n",
      "|          1|       Global|   G|Global|1962|1.89532786075135E13|1.73903914323416E13|2.06147723221976E13|1.40657579809339E13|1.37605960666806E13| 1.4437458446538E13|  Global|\n",
      "|          1|       Global|   G|Global|1963|1.96566205172959E13|1.81170577975165E13|2.13499344848797E13|1.46183109208764E13|1.43213212980444E13|1.49769271453144E13|  Global|\n",
      "|          1|       Global|   G|Global|1964|2.10057472286434E13|1.93566409860997E13|2.27679109341661E13|1.55298620546492E13|1.52349819730696E13|1.58799800439569E13|  Global|\n",
      "+-----------+-------------+----+------+----+-------------------+-------------------+-------------------+-------------------+-------------------+-------------------+--------+\n",
      "only showing top 5 rows\n",
      "\n"
     ]
    }
   ],
   "source": [
    "data = data.withColumnRenamed('localtion_name_copy', 'loc_copy')\n",
    "\n",
    "data.show(5)"
   ]
  },
  {
   "cell_type": "markdown",
   "id": "b0cfc34f-6cfb-42fc-aae8-708c8f0b880c",
   "metadata": {},
   "source": [
    "3. Upuszczanie kolumny: Użyj metody `drop`, która pobiera nazwę kolumny i zwraca dane."
   ]
  },
  {
   "cell_type": "code",
   "execution_count": 38,
   "id": "215d1e6a-8a05-4802-874d-9df403e3f33a",
   "metadata": {},
   "outputs": [
    {
     "name": "stdout",
     "output_type": "stream",
     "text": [
      "+-----------+-------------+----+------+----+-------------------+-------------------+-------------------+-------------------+-------------------+-------------------+\n",
      "|location_id|location_name|iso3| level|year|       gdp_ppp_mean|      gdp_ppp_lower|      gdp_ppp_upper|       gdp_usd_mean|      gdp_usd_lower|      gdp_usd_upper|\n",
      "+-----------+-------------+----+------+----+-------------------+-------------------+-------------------+-------------------+-------------------+-------------------+\n",
      "|          1|       Global|   G|Global|1960|1.74834497741229E13|1.60191461123888E13|1.91158624168235E13|1.29686253175438E13|1.26689033381772E13|1.33417658012893E13|\n",
      "|          1|       Global|   G|Global|1961|1.81353705549505E13|1.65953715857582E13|1.98249272642215E13|1.34609728834516E13|1.31476650793038E13|1.38302136850629E13|\n",
      "|          1|       Global|   G|Global|1962|1.89532786075135E13|1.73903914323416E13|2.06147723221976E13|1.40657579809339E13|1.37605960666806E13| 1.4437458446538E13|\n",
      "|          1|       Global|   G|Global|1963|1.96566205172959E13|1.81170577975165E13|2.13499344848797E13|1.46183109208764E13|1.43213212980444E13|1.49769271453144E13|\n",
      "|          1|       Global|   G|Global|1964|2.10057472286434E13|1.93566409860997E13|2.27679109341661E13|1.55298620546492E13|1.52349819730696E13|1.58799800439569E13|\n",
      "+-----------+-------------+----+------+----+-------------------+-------------------+-------------------+-------------------+-------------------+-------------------+\n",
      "only showing top 5 rows\n",
      "\n"
     ]
    }
   ],
   "source": [
    "data = data.drop('loc_copy')\n",
    "\n",
    "data.show(5)"
   ]
  },
  {
   "cell_type": "markdown",
   "id": "b1e0d110-05af-4943-ab90-a2eeda97873a",
   "metadata": {},
   "source": [
    "# Radzenie sobie z brakującymi wartościami\n",
    "Często napotykamy brakujące wartości podczas pracy z danymi czasu rzeczywistego. Te brakujące wartości są oznaczone jako `NaN`, spacje lub inne symbole zastępcze. Istnieją różne metody radzenia sobie z brakami danych, niektóre z najbardziej popularnych to:\n",
    "\n",
    "- Usunięcie: usuń wiersze z brakującymi wartościami w dowolnej z kolumn.\n",
    "- Zastąpienie średniej / mediany: Zastąp brakujące wartości za pomocą średniej lub mediany z odpowiedniej kolumny. Jest prosty, szybki i dobrze współpracuje z małymi zestawami danych liczbowych.\n",
    "- Zastępowanie najczęstszych wartości: Jak sugeruje nazwa, użyj najczęściej występującej wartości w kolumnie, aby zastąpić brakujące wartości. Działa to dobrze w przypadku atrybutów kategorycznych, ale może również wprowadzić błąd w danych.\n",
    "- Zastępowanie za pomocą KNN: Metoda K-nearestneighbor to algorytm klasyfikacji, który oblicza podobieństwo cech nowych punktów danych do istniejących przy użyciu różnych metryk odległości, takich jak Euclidean, Mahalanobis, Manhattan, Minkowski, Hamming i inne. To podejście jest dokładniejsze niż wyżej wymienione metody, ale jest intensywne obliczeniowo i dość wrażliwe na wartości odstające.\n",
    "\n",
    "Zobaczmy, jak możemy wykorzystać PySpark do rozwiązania problemu brakujących wartości:"
   ]
  },
  {
   "cell_type": "code",
   "execution_count": 39,
   "id": "a22ac3a7-52cf-4b9f-9f97-54c62e38342f",
   "metadata": {},
   "outputs": [
    {
     "data": {
      "text/plain": [
       "DataFrame[location_id: int, location_name: string, iso3: string, level: string, year: int, gdp_ppp_mean: double, gdp_ppp_lower: double, gdp_ppp_upper: double, gdp_usd_mean: double, gdp_usd_lower: double, gdp_usd_upper: double]"
      ]
     },
     "execution_count": 39,
     "metadata": {},
     "output_type": "execute_result"
    }
   ],
   "source": [
    "from pyspark.sql import functions as f\n",
    "data2 = data\n",
    "# Usuń wiersze z brakującymi wartościami w dowolnej z kolumn\n",
    "data2.na.drop()\n",
    "\n",
    "# Zastąp brakujące wartości za pomocą średniej\n",
    "data2.na.fill(data.select(f.mean(data['gdp_ppp_mean'])).collect()[0][0])\n",
    "\n",
    "# Zastąp brakujące wartości nowymi\n",
    "#data2.na.replace(old_value, new_vallue)"
   ]
  },
  {
   "cell_type": "markdown",
   "id": "0573b6cc-a76a-4d2a-bf7c-23967495addd",
   "metadata": {},
   "source": [
    "# Pobieranie danych\n",
    "PySpark i PySpark SQL zapewniają szeroki zakres metod i funkcji do łatwego wyszukiwania danych. Oto lista najczęściej używanych metod:\n",
    "- Select\n",
    "- Filter\n",
    "- Between\n",
    "- When\n",
    "- Like\n",
    "- GroupBy\n",
    "- Agregowanie"
   ]
  },
  {
   "cell_type": "markdown",
   "id": "70802069-2ebd-4417-9f53-b4549c7a12a6",
   "metadata": {},
   "source": [
    "### Select\n",
    "Służy do wybierania jednej lub więcej kolumn przy użyciu ich nazw. Oto prosty przykład:"
   ]
  },
  {
   "cell_type": "code",
   "execution_count": 41,
   "id": "99f0e004-5a92-41f9-8846-9397667e2342",
   "metadata": {},
   "outputs": [
    {
     "name": "stdout",
     "output_type": "stream",
     "text": [
      "+-------------+\n",
      "|location_name|\n",
      "+-------------+\n",
      "|       Global|\n",
      "|       Global|\n",
      "|       Global|\n",
      "|       Global|\n",
      "|       Global|\n",
      "+-------------+\n",
      "only showing top 5 rows\n",
      "\n",
      "+-------------+------+----+\n",
      "|location_name| level|year|\n",
      "+-------------+------+----+\n",
      "|       Global|Global|1960|\n",
      "|       Global|Global|1961|\n",
      "|       Global|Global|1962|\n",
      "|       Global|Global|1963|\n",
      "|       Global|Global|1964|\n",
      "+-------------+------+----+\n",
      "only showing top 5 rows\n",
      "\n"
     ]
    }
   ],
   "source": [
    "# wybór jednej kolumny\n",
    "data.select('location_name').show(5)\n",
    "\n",
    "# wybór kilku kolumn\n",
    "data.select(['location_name', 'level', 'year']).show(5)"
   ]
  },
  {
   "cell_type": "markdown",
   "id": "e1873afd-c227-4613-934d-33cfa8af676f",
   "metadata": {},
   "source": [
    "### Filter\n",
    "Ta metoda filtruje dane na podstawie określonego warunku. Możesz także określić wiele warunków za pomocą operatorów `AND (&)`, `OR (|)` i `NOT (~)`. Oto przykład uzyskania danych o cenach akcji za styczeń 2020 r."
   ]
  },
  {
   "cell_type": "code",
   "execution_count": 42,
   "id": "bbf52891-6af7-4051-99dc-bfdc5e914650",
   "metadata": {},
   "outputs": [
    {
     "name": "stdout",
     "output_type": "stream",
     "text": [
      "+-----------+--------------------+----+----------------+----+-------------------+-------------------+-------------------+-------------------+-------------------+------------------+\n",
      "|location_id|       location_name|iso3|           level|year|       gdp_ppp_mean|      gdp_ppp_lower|      gdp_ppp_upper|       gdp_usd_mean|      gdp_usd_lower|     gdp_usd_upper|\n",
      "+-----------+--------------------+----+----------------+----+-------------------+-------------------+-------------------+-------------------+-------------------+------------------+\n",
      "|          6|               China| CHN|         Country|2049|   26641.7877522846|   17390.2943922601|   38996.3034048969|   18126.8767523012|   12441.3494732118|   25672.649208651|\n",
      "|          6|               China| CHN|         Country|2050|   26981.6765318682|   17415.3538032968|   39814.6885556454|   18357.6013044249|   12386.4835575289|  26123.1849049601|\n",
      "|         10|            Cambodia| KHM|         Country|2049|   6791.72615427225|   4875.21908619687|   9152.84808452476|   2442.82234903808|   1764.87497789537|  3272.72117228368|\n",
      "|         10|            Cambodia| KHM|         Country|2050|   6856.72600116488|   4903.09712842223|   9311.07919092558|   2466.17605072404|   1771.27403052073|  3319.74004348651|\n",
      "|         31|Central Europe, E...|null|GBD Super Region|2049|9.89208591006255E12|8.67769599935679E12|1.13086094537763E13|3.80833396955358E12|3.36359500960791E12|4.3351568109893E12|\n",
      "+-----------+--------------------+----+----------------+----+-------------------+-------------------+-------------------+-------------------+-------------------+------------------+\n",
      "only showing top 5 rows\n",
      "\n"
     ]
    }
   ],
   "source": [
    "from pyspark.sql.functions import col\n",
    "\n",
    "data.filter( (col('year') >= 2049) & (col('location_name') <= 'China') ).show(5)"
   ]
  },
  {
   "cell_type": "markdown",
   "id": "1584fc87-3e71-47a3-b5aa-79686fea402a",
   "metadata": {},
   "source": [
    "### Between\n",
    "Ta metoda zwraca `True`, jeśli testowana wartość należy do określonego zakresu, w przeciwnym razie — `False`. Rzućmy okiem na przykład filtrowania danych, w którym wartości wahają się od 1000000 do 5000000 ."
   ]
  },
  {
   "cell_type": "code",
   "execution_count": 43,
   "id": "9509421e-9aad-425f-9208-ff3d846b0965",
   "metadata": {},
   "outputs": [
    {
     "name": "stdout",
     "output_type": "stream",
     "text": [
      "+-----------+--------------------+----+----------------+----+-------------------+-------------------+-------------------+-------------------+-------------------+-------------------+\n",
      "|location_id|       location_name|iso3|           level|year|       gdp_ppp_mean|      gdp_ppp_lower|      gdp_ppp_upper|       gdp_usd_mean|      gdp_usd_lower|      gdp_usd_upper|\n",
      "+-----------+--------------------+----+----------------+----+-------------------+-------------------+-------------------+-------------------+-------------------+-------------------+\n",
      "|          1|              Global|   G|          Global|2048|1.79542233636895E14|1.64703090814098E14|1.97834861108508E14|1.10165556030334E14|1.00870359287861E14|1.21257861809591E14|\n",
      "|          1|              Global|   G|          Global|2049|1.81170062075381E14|1.65767549867647E14|2.00328155958661E14|1.11074813959093E14|1.01267037472205E14|1.22629374405334E14|\n",
      "|          4|Southeast Asia, E...|null|GBD Super Region|2048|4.83587116956564E13|3.65673613405919E13|6.36698191998905E13|2.83990245518275E13|2.12809180920699E13|3.75026360906227E13|\n",
      "|          4|Southeast Asia, E...|null|GBD Super Region|2049|4.87363879353628E13|3.65933753850947E13|6.41151203280693E13|2.86016149846493E13|2.12303332588809E13| 3.8123746803077E13|\n",
      "|          6|               China| CHN|         Country|2048|   26269.3167379543|   17374.6075823564|   38291.0883061646|   17873.7922962546|   12428.9144984509|   24989.4919541632|\n",
      "|          6|               China| CHN|         Country|2049|   26641.7877522846|   17390.2943922601|   38996.3034048969|   18126.8767523012|   12441.3494732118|    25672.649208651|\n",
      "|          7|Democratic People...| PRK|         Country|2048|   1602.77004509598|   1122.64356115215|   2207.94712079619|   1021.23075157683|   733.481582343307|   1409.12223457872|\n",
      "|          7|Democratic People...| PRK|         Country|2049|   1601.28572526721|   1106.77936945333|   2231.90268273972|   1020.30338652513|   722.180568224601|   1423.03741759445|\n",
      "|          8|Taiwan (Province ...| TWN|         Country|2048|   61067.1018077652|   42581.2995567068|   85864.9421333345|   30842.2129873895|   22591.5825469659|   41691.6901086674|\n",
      "|          8|Taiwan (Province ...| TWN|         Country|2049|   61824.5556347691|   42724.9344904469|   87362.8467432777|   31224.9831140666|   22554.4626791553|   42733.5526679958|\n",
      "|         10|            Cambodia| KHM|         Country|2048|   6730.03823089842|   4890.06341893314|   8989.20101716368|   2420.65953484293|   1769.42989311243|   3213.54738594141|\n",
      "|         10|            Cambodia| KHM|         Country|2049|   6791.72615427225|   4875.21908619687|   9152.84808452476|   2442.82234903808|   1764.87497789537|   3272.72117228368|\n",
      "|         11|           Indonesia| IDN|         Country|2048|   17649.7290561078|   12730.0949304553|   23588.9379290956|   5851.75839485823|   4202.98014747916|    7788.5418820678|\n",
      "|         11|           Indonesia| IDN|         Country|2049|   17892.7665486833|   12745.1039355375|   24145.2940281458|   5932.38262284543|   4207.60335467648|   8023.87895747202|\n",
      "|         12|Lao People's Demo...| LAO|         Country|2048|   14483.1993380699|   9614.15745855494|   20647.1315204367|   4317.66683449286|   2956.66109585155|   5897.53163877903|\n",
      "|         12|Lao People's Demo...| LAO|         Country|2049|   14709.6401781263|   9673.03899663554|   21159.6921889882|   4385.15236780664|   2962.03360515987|   6044.48466904476|\n",
      "|         13|            Malaysia| MYS|         Country|2048|   38106.7120589647|   26904.4292995429|    51817.247447815|   14753.9926890315|    10806.028869192|   19623.5566545736|\n",
      "|         13|            Malaysia| MYS|         Country|2049|   38482.0963425346|   26769.3230246842|   52814.6078099208|   14899.0803187642|   10824.9383012811|   20068.8734094799|\n",
      "|         14|            Maldives| MDV|         Country|2048|     28310.47708412|    16444.539159244|    46067.825704407|   14892.4212815427|   10280.7896441868|   21954.1441146395|\n",
      "|         14|            Maldives| MDV|         Country|2049|   28148.2192914764|   16305.9354378316|   45748.9824619041|   14809.3656705461|   10177.4990643172|    21975.970062853|\n",
      "+-----------+--------------------+----+----------------+----+-------------------+-------------------+-------------------+-------------------+-------------------+-------------------+\n",
      "only showing top 20 rows\n",
      "\n"
     ]
    }
   ],
   "source": [
    "data.filter(data.year.between(2048, 2049)).show()"
   ]
  },
  {
   "cell_type": "markdown",
   "id": "b1818492-df0d-46f1-878c-c0276db18cd5",
   "metadata": {},
   "source": [
    "### When\n",
    "Zwraca 0 lub 1 w zależności od określonego warunku."
   ]
  },
  {
   "cell_type": "code",
   "execution_count": 53,
   "id": "194277f8-5f2e-40bc-a1cf-b34744e09a0c",
   "metadata": {},
   "outputs": [
    {
     "name": "stdout",
     "output_type": "stream",
     "text": [
      "+----+-------------------------------+\n",
      "|iso3|Czy iso3 zaczyna sie na S lub R|\n",
      "+----+-------------------------------+\n",
      "|THA |false                          |\n",
      "|SLB |true                           |\n",
      "|ZAF |false                          |\n",
      "|CZE |false                          |\n",
      "|SWE |true                           |\n",
      "|GRL |false                          |\n",
      "|BEL |false                          |\n",
      "|PRY |false                          |\n",
      "|NLD |false                          |\n",
      "|COG |false                          |\n",
      "|BDI |false                          |\n",
      "|BMU |false                          |\n",
      "|RWA |true                           |\n",
      "|MNE |false                          |\n",
      "|TUR |false                          |\n",
      "|PRK |false                          |\n",
      "|ECU |false                          |\n",
      "|AUS |false                          |\n",
      "|IND |false                          |\n",
      "|UZB |false                          |\n",
      "|ISL |false                          |\n",
      "|CPV |false                          |\n",
      "|G   |false                          |\n",
      "|CHN |false                          |\n",
      "|BIH |false                          |\n",
      "|MOZ |false                          |\n",
      "|LSO |false                          |\n",
      "|IRN |false                          |\n",
      "|AFG |false                          |\n",
      "|GRD |false                          |\n",
      "|VEN |false                          |\n",
      "|GEO |false                          |\n",
      "|TJK |false                          |\n",
      "|KWT |false                          |\n",
      "|GNB |false                          |\n",
      "|AGO |false                          |\n",
      "|MCO |false                          |\n",
      "|SMR |true                           |\n",
      "|NOR |false                          |\n",
      "|BLZ |false                          |\n",
      "|HUN |false                          |\n",
      "|SGP |true                           |\n",
      "|ARE |false                          |\n",
      "|KNA |false                          |\n",
      "|MNG |false                          |\n",
      "|GUY |false                          |\n",
      "|KAZ |false                          |\n",
      "|MAR |false                          |\n",
      "|MEX |false                          |\n",
      "|TZA |false                          |\n",
      "|SOM |true                           |\n",
      "|null|null                           |\n",
      "|TTO |false                          |\n",
      "|UGA |false                          |\n",
      "|MDG |false                          |\n",
      "|JOR |false                          |\n",
      "|BFA |false                          |\n",
      "|LKA |false                          |\n",
      "|SYC |true                           |\n",
      "|NAM |false                          |\n",
      "|MDA |false                          |\n",
      "|SUR |true                           |\n",
      "|GBR |false                          |\n",
      "|DZA |false                          |\n",
      "|MLI |false                          |\n",
      "|SWZ |true                           |\n",
      "|ARM |false                          |\n",
      "|GNQ |false                          |\n",
      "|FSM |false                          |\n",
      "|JAM |false                          |\n",
      "|GRC |false                          |\n",
      "|BEN |false                          |\n",
      "|IDN |false                          |\n",
      "|LVA |false                          |\n",
      "|MRT |false                          |\n",
      "|AZE |false                          |\n",
      "|ARG |false                          |\n",
      "|KOR |false                          |\n",
      "|SVN |true                           |\n",
      "|CYP |false                          |\n",
      "|FIN |false                          |\n",
      "|CHL |false                          |\n",
      "|GTM |false                          |\n",
      "|SAU |true                           |\n",
      "|GAB |false                          |\n",
      "|SYR |true                           |\n",
      "|EGY |false                          |\n",
      "|ALB |false                          |\n",
      "|MLT |false                          |\n",
      "|LAO |false                          |\n",
      "|TGO |false                          |\n",
      "|TWN |false                          |\n",
      "|DOM |false                          |\n",
      "|SEN |true                           |\n",
      "|ISR |false                          |\n",
      "|UKR |false                          |\n",
      "|TUN |false                          |\n",
      "|LUX |false                          |\n",
      "|SLE |true                           |\n",
      "|PAN |false                          |\n",
      "|DJI |false                          |\n",
      "|MKD |false                          |\n",
      "|BHR |false                          |\n",
      "|TUV |false                          |\n",
      "|LBR |false                          |\n",
      "|VUT |false                          |\n",
      "|SVK |true                           |\n",
      "|CUB |false                          |\n",
      "|ROU |true                           |\n",
      "|PLW |false                          |\n",
      "|BGR |false                          |\n",
      "|LCA |false                          |\n",
      "|KEN |false                          |\n",
      "|MNP |false                          |\n",
      "|JPN |false                          |\n",
      "|VCT |false                          |\n",
      "|KGZ |false                          |\n",
      "|CIV |false                          |\n",
      "|MHL |false                          |\n",
      "|TCD |false                          |\n",
      "|KIR |false                          |\n",
      "|CMR |false                          |\n",
      "|COL |false                          |\n",
      "|NER |false                          |\n",
      "|GIN |false                          |\n",
      "|FRA |false                          |\n",
      "|EST |false                          |\n",
      "|AND |false                          |\n",
      "|CHE |false                          |\n",
      "|CRI |false                          |\n",
      "|PAK |false                          |\n",
      "|PSE |false                          |\n",
      "|NRU |false                          |\n",
      "|NGA |false                          |\n",
      "|ZWE |false                          |\n",
      "|COK |false                          |\n",
      "|SRB |true                           |\n",
      "|WSM |false                          |\n",
      "|PER |false                          |\n",
      "|MDV |false                          |\n",
      "|POL |false                          |\n",
      "|SDN |true                           |\n",
      "|BLR |false                          |\n",
      "|BRN |false                          |\n",
      "|YEM |false                          |\n",
      "|IRQ |false                          |\n",
      "|DEU |false                          |\n",
      "|ITA |false                          |\n",
      "|BGD |false                          |\n",
      "|ESP |false                          |\n",
      "|BTN |false                          |\n",
      "|AUT |false                          |\n",
      "|MYS |false                          |\n",
      "|NIC |false                          |\n",
      "|ZMB |false                          |\n",
      "|STP |true                           |\n",
      "|HRV |false                          |\n",
      "|ASM |false                          |\n",
      "|VIR |false                          |\n",
      "|GHA |false                          |\n",
      "|PNG |false                          |\n",
      "|TKM |false                          |\n",
      "|KHM |false                          |\n",
      "|TON |false                          |\n",
      "|MWI |false                          |\n",
      "|COM |false                          |\n",
      "|ETH |false                          |\n",
      "|GUM |false                          |\n",
      "|BRB |false                          |\n",
      "|COD |false                          |\n",
      "|DMA |false                          |\n",
      "|LBN |false                          |\n",
      "|LBY |false                          |\n",
      "|SSD |true                           |\n",
      "|FJI |false                          |\n",
      "|RUS |true                           |\n",
      "|NZL |false                          |\n",
      "|OMN |false                          |\n",
      "|QAT |false                          |\n",
      "|GMB |false                          |\n",
      "|PRT |false                          |\n",
      "|HND |false                          |\n",
      "|MUS |false                          |\n",
      "|USA |false                          |\n",
      "|HTI |false                          |\n",
      "|LTU |false                          |\n",
      "|BRA |false                          |\n",
      "|PHL |false                          |\n",
      "|MMR |false                          |\n",
      "|DNK |false                          |\n",
      "|TKL |false                          |\n",
      "|TLS |false                          |\n",
      "|IRL |false                          |\n",
      "|SLV |true                           |\n",
      "|PRI |false                          |\n",
      "|BOL |false                          |\n",
      "|NPL |false                          |\n",
      "|BHS |false                          |\n",
      "|ERI |false                          |\n",
      "|CAN |false                          |\n",
      "|BWA |false                          |\n",
      "|ATG |false                          |\n",
      "|NIU |false                          |\n",
      "|CAF |false                          |\n",
      "|VNM |false                          |\n",
      "|URY |false                          |\n",
      "+----+-------------------------------+\n",
      "\n"
     ]
    }
   ],
   "source": [
    "data.select(\n",
    "    'iso3', \n",
    "    data.iso3.rlike('^[S,R]').alias('Czy iso3 zaczyna sie na S lub R')\n",
    ").distinct().show(data.count(),False) "
   ]
  },
  {
   "cell_type": "markdown",
   "id": "d3b1aa5b-ef9a-4690-8aa5-3fd608b3738f",
   "metadata": {},
   "source": [
    "### Like\n",
    "Ta metoda jest podobna do operatora Like w SQL. Poniższy kod demonstruje użycie `rlike()` do pobierania nazw iso_currency zaczynających się na cyfry 9 lub 7."
   ]
  },
  {
   "cell_type": "code",
   "execution_count": 52,
   "id": "777cf1da-2a9a-4627-a59f-5cbc1fe0313c",
   "metadata": {},
   "outputs": [
    {
     "name": "stdout",
     "output_type": "stream",
     "text": [
      "+----+---------------------------------------+\n",
      "|year|Czy rok zaczyna się na 2 i kończy na 5?|\n",
      "+----+---------------------------------------+\n",
      "|2049|false                                  |\n",
      "|2009|false                                  |\n",
      "|2012|false                                  |\n",
      "|1990|null                                   |\n",
      "|1975|null                                   |\n",
      "|2025|null                                   |\n",
      "|2002|false                                  |\n",
      "|2011|false                                  |\n",
      "|1977|null                                   |\n",
      "|2028|false                                  |\n",
      "|2027|null                                   |\n",
      "|2022|false                                  |\n",
      "|2035|null                                   |\n",
      "|1982|false                                  |\n",
      "|1976|false                                  |\n",
      "|2003|null                                   |\n",
      "|1996|false                                  |\n",
      "|2007|null                                   |\n",
      "|1980|false                                  |\n",
      "|2018|null                                   |\n",
      "|2044|null                                   |\n",
      "|1974|null                                   |\n",
      "|2015|null                                   |\n",
      "|2032|null                                   |\n",
      "|2023|null                                   |\n",
      "|2014|false                                  |\n",
      "|2047|null                                   |\n",
      "|2006|null                                   |\n",
      "|1992|false                                  |\n",
      "|2007|false                                  |\n",
      "|1978|null                                   |\n",
      "|2022|null                                   |\n",
      "|2031|null                                   |\n",
      "|2039|false                                  |\n",
      "|1961|null                                   |\n",
      "|2013|null                                   |\n",
      "|1978|false                                  |\n",
      "|2042|null                                   |\n",
      "|2048|false                                  |\n",
      "|2017|false                                  |\n",
      "|2037|null                                   |\n",
      "|2038|null                                   |\n",
      "|2045|null                                   |\n",
      "|1969|false                                  |\n",
      "|1973|false                                  |\n",
      "|2006|false                                  |\n",
      "|1966|false                                  |\n",
      "|2040|null                                   |\n",
      "|1988|null                                   |\n",
      "|1997|null                                   |\n",
      "|1994|null                                   |\n",
      "|2026|null                                   |\n",
      "|1977|false                                  |\n",
      "|2046|false                                  |\n",
      "|2047|false                                  |\n",
      "|2018|false                                  |\n",
      "|1968|null                                   |\n",
      "|1984|false                                  |\n",
      "|2013|false                                  |\n",
      "|2014|null                                   |\n",
      "|2003|false                                  |\n",
      "|2010|false                                  |\n",
      "|2036|false                                  |\n",
      "|1962|false                                  |\n",
      "|1983|false                                  |\n",
      "|1968|false                                  |\n",
      "|1994|false                                  |\n",
      "|1971|false                                  |\n",
      "|2015|false                                  |\n",
      "|2000|false                                  |\n",
      "|1973|null                                   |\n",
      "|1979|null                                   |\n",
      "|2041|null                                   |\n",
      "|2019|null                                   |\n",
      "|1971|null                                   |\n",
      "|2036|null                                   |\n",
      "|2001|false                                  |\n",
      "|2034|false                                  |\n",
      "|1998|false                                  |\n",
      "|1966|null                                   |\n",
      "|2004|null                                   |\n",
      "|1991|null                                   |\n",
      "|2045|false                                  |\n",
      "|1967|null                                   |\n",
      "|2048|null                                   |\n",
      "|1969|null                                   |\n",
      "|1982|null                                   |\n",
      "|2029|null                                   |\n",
      "|2019|false                                  |\n",
      "|2016|false                                  |\n",
      "|1989|false                                  |\n",
      "|2037|false                                  |\n",
      "|2023|false                                  |\n",
      "|2046|null                                   |\n",
      "|1989|null                                   |\n",
      "|1996|null                                   |\n",
      "|2030|null                                   |\n",
      "|1963|false                                  |\n",
      "|1988|false                                  |\n",
      "|1961|false                                  |\n",
      "|2034|null                                   |\n",
      "|1990|false                                  |\n",
      "|1998|null                                   |\n",
      "|1967|false                                  |\n",
      "|2024|false                                  |\n",
      "|1963|null                                   |\n",
      "|2026|false                                  |\n",
      "|1965|null                                   |\n",
      "|1985|null                                   |\n",
      "|2020|null                                   |\n",
      "|2044|false                                  |\n",
      "|1960|null                                   |\n",
      "|1960|false                                  |\n",
      "|2004|false                                  |\n",
      "|1970|null                                   |\n",
      "|1981|false                                  |\n",
      "|2012|null                                   |\n",
      "|2021|false                                  |\n",
      "|2033|false                                  |\n",
      "|2041|false                                  |\n",
      "|1987|null                                   |\n",
      "|2033|null                                   |\n",
      "|1964|false                                  |\n",
      "|2020|false                                  |\n",
      "|2030|false                                  |\n",
      "|2040|false                                  |\n",
      "|1997|false                                  |\n",
      "|2050|false                                  |\n",
      "|2032|false                                  |\n",
      "|2050|null                                   |\n",
      "|2009|null                                   |\n",
      "|2027|false                                  |\n",
      "|1995|false                                  |\n",
      "|2016|null                                   |\n",
      "|1995|null                                   |\n",
      "|1986|false                                  |\n",
      "|2008|false                                  |\n",
      "|1970|false                                  |\n",
      "|2038|false                                  |\n",
      "|2043|null                                   |\n",
      "|2043|false                                  |\n",
      "|1980|null                                   |\n",
      "|1975|false                                  |\n",
      "|2039|null                                   |\n",
      "|1965|false                                  |\n",
      "|1972|false                                  |\n",
      "|2001|null                                   |\n",
      "|2028|null                                   |\n",
      "|1972|null                                   |\n",
      "|2024|null                                   |\n",
      "|1974|false                                  |\n",
      "|1999|false                                  |\n",
      "|2035|false                                  |\n",
      "|2042|false                                  |\n",
      "|1992|null                                   |\n",
      "|1983|null                                   |\n",
      "|2049|null                                   |\n",
      "|2005|false                                  |\n",
      "|2005|null                                   |\n",
      "|1984|null                                   |\n",
      "|1987|false                                  |\n",
      "|1985|false                                  |\n",
      "|1964|null                                   |\n",
      "|2000|null                                   |\n",
      "|1981|null                                   |\n",
      "|2010|null                                   |\n",
      "|1986|null                                   |\n",
      "|2011|null                                   |\n",
      "|1993|false                                  |\n",
      "|1991|false                                  |\n",
      "|1976|null                                   |\n",
      "|1979|false                                  |\n",
      "|2031|false                                  |\n",
      "|2008|null                                   |\n",
      "|2017|null                                   |\n",
      "|2029|false                                  |\n",
      "|1999|null                                   |\n",
      "|1962|null                                   |\n",
      "|2002|null                                   |\n",
      "|2025|false                                  |\n",
      "|2021|null                                   |\n",
      "|1993|null                                   |\n",
      "+----+---------------------------------------+\n",
      "\n"
     ]
    }
   ],
   "source": [
    "data.select(\n",
    "    'year', \n",
    "    data.iso3.rlike('^[2,5]').alias('Czy rok zaczyna się na 2 i kończy na 5?')\n",
    ").distinct().show(data.count(),False) "
   ]
  },
  {
   "cell_type": "markdown",
   "id": "befeee40-27a7-4f96-a63b-0bcb2786482a",
   "metadata": {},
   "source": [
    "### GroupBy\n",
    "Sama nazwa sugeruje, że ta funkcja grupuje dane według wybranej kolumny i wykonuje różne operacje, takie jak obliczanie sumy, średniej, minimalnej, maksymalnej wartości itp. Poniższy przykład wyjaśnia, jak uzyskać średnią confirmed, people_vaccinated  według iso_currency."
   ]
  },
  {
   "cell_type": "code",
   "execution_count": 54,
   "id": "c33a7d78-d545-4dc9-ac0e-c79d1b8799b3",
   "metadata": {},
   "outputs": [
    {
     "name": "stdout",
     "output_type": "stream",
     "text": [
      "+----+------------------+\n",
      "|iso3| avg(gdp_ppp_mean)|\n",
      "+----+------------------+\n",
      "| NIU| 9854.295863186502|\n",
      "| HTI|2316.7967624426688|\n",
      "| PSE|5941.8343839562895|\n",
      "| POL|22016.555793248514|\n",
      "| LVA|22394.853265017886|\n",
      "| BRB| 13503.98008389153|\n",
      "| JAM| 8821.034912145478|\n",
      "| ZMB|3107.0294700491386|\n",
      "| BRA|12012.525786749417|\n",
      "| ARM|10085.036429814392|\n",
      "| MOZ|1278.3252981519656|\n",
      "| CUB| 6662.127240079962|\n",
      "| JOR| 9387.340155098265|\n",
      "| FRA| 38258.73312231276|\n",
      "| SOM| 218.5427665127706|\n",
      "| FSM|3439.5272079213537|\n",
      "| BRN|  67270.5337688794|\n",
      "| COD|1498.8923437122864|\n",
      "| URY|16310.606607280319|\n",
      "| BOL| 6351.952236764365|\n",
      "+----+------------------+\n",
      "only showing top 20 rows\n",
      "\n"
     ]
    }
   ],
   "source": [
    "data.select(['location_name', 'iso3', 'gdp_ppp_mean'])\\\n",
    "    .groupBy('iso3')\\\n",
    "    .mean()\\\n",
    "    .show()"
   ]
  },
  {
   "cell_type": "markdown",
   "id": "aa210dab-554a-47d4-a6a5-d0ae61816357",
   "metadata": {},
   "source": [
    "### Agregacja\n",
    "PySpark zapewnia wbudowane standardowe funkcje agregacji zdefiniowane w API DataFrame, które mogą się przydać, gdy musimy zagregować wartości Twoich kolumn. Innymi słowy, takie funkcje działają na kilka wierszy i oblicza pojedynczą wartość powrotną dla każdej grupy.\n",
    "\n",
    "Poniższy przykład pokazuje, jak wyświetlić najniższe, najwyższe i średnie confirmed, people_vaccinated dla każdej iso_currency."
   ]
  },
  {
   "cell_type": "code",
   "execution_count": 56,
   "id": "f36fa37e-729b-4ebe-87ac-ad812d2bb511",
   "metadata": {},
   "outputs": [
    {
     "name": "stdout",
     "output_type": "stream",
     "text": [
      "+----+----------------+----------------+-----------------------+-----------------------+-----------------------+-----------------------+-----------------------+-----------------------+\n",
      "|iso3|from            |to              |minimum the_total_upper|maximum the_total_upper|average the_total_upper|minimum the_total_lower|maximum the_total_lower|average the_total_lower|\n",
      "+----+----------------+----------------+-----------------------+-----------------------+-----------------------+-----------------------+-----------------------+-----------------------+\n",
      "|NIU |4051.30776393082|16027.6499272821|4051.30776393082       |16027.6499272821       |9854.295863186502      |4051.30776393082       |16027.6499272821       |9854.295863186502      |\n",
      "|HTI |1796.25924977247|2894.46913709064|1796.25924977247       |2894.46913709064       |2316.7967624426688     |1796.25924977247       |2894.46913709064       |2316.7967624426688     |\n",
      "|PSE |2255.45747416971|9757.89048764027|2255.45747416971       |9757.89048764027       |5941.8343839562895     |2255.45747416971       |9757.89048764027       |5941.8343839562895     |\n",
      "|POL |6477.85254093902|38361.9306297022|6477.85254093902       |38361.9306297022       |22016.555793248514     |6477.85254093902       |38361.9306297022       |22016.555793248514     |\n",
      "|LVA |9555.19324268228|35684.8276600894|9555.19324268228       |35684.8276600894       |22394.853265017886     |9555.19324268228       |35684.8276600894       |22394.853265017886     |\n",
      "|BRB |7375.81765823001|17489.6879517996|7375.81765823001       |17489.6879517996       |13503.98008389153      |7375.81765823001       |17489.6879517996       |13503.98008389153      |\n",
      "|JAM |6595.56404151384|10156.8278394217|6595.56404151384       |10156.8278394217       |8821.034912145478      |6595.56404151384       |10156.8278394217       |8821.034912145478      |\n",
      "|ZMB |1532.15849050105|5113.77514864985|1532.15849050105       |5113.77514864985       |3107.0294700491386     |1532.15849050105       |5113.77514864985       |3107.0294700491386     |\n",
      "|BRA |4093.31400996607|17199.3954757952|4093.31400996607       |17199.3954757952       |12012.525786749417     |4093.31400996607       |17199.3954757952       |12012.525786749417     |\n",
      "|ARM |3616.39590873901|17375.8914587355|3616.39590873901       |17375.8914587355       |10085.036429814392     |3616.39590873901       |17375.8914587355       |10085.036429814392     |\n",
      "|MOZ |686.609144550316|2508.80491922303|686.609144550316       |2508.80491922303       |1278.3252981519656     |686.609144550316       |2508.80491922303       |1278.3252981519656     |\n",
      "|CUB |3108.02065660606|9954.22930110556|3108.02065660606       |9954.22930110556       |6662.127240079962      |3108.02065660606       |9954.22930110556       |6662.127240079962      |\n",
      "|JOR |5189.73459818837|12493.3245347455|5189.73459818837       |12493.3245347455       |9387.340155098265      |5189.73459818837       |12493.3245347455       |9387.340155098265      |\n",
      "|FRA |14981.5607935053|52544.3438575287|14981.5607935053       |52544.3438575287       |38258.73312231276      |14981.5607935053       |52544.3438575287       |38258.73312231276      |\n",
      "|SOM |144.806256438462|403.469836233455|144.806256438462       |403.469836233455       |218.5427665127706      |144.806256438462       |403.469836233455       |218.5427665127706      |\n",
      "|FSM |2377.66508845488|4471.7530121069 |2377.66508845488       |4471.7530121069        |3439.5272079213537     |2377.66508845488       |4471.7530121069        |3439.5272079213537     |\n",
      "|BRN |49165.7299816666|123971.926894334|49165.7299816666       |123971.926894334       |67270.5337688794       |49165.7299816666       |123971.926894334       |67270.5337688794       |\n",
      "|COD |690.893279786025|2739.88848139075|690.893279786025       |2739.88848139075       |1498.8923437122864     |690.893279786025       |2739.88848139075       |1498.8923437122864     |\n",
      "|URY |7804.12010066004|27291.7916889751|7804.12010066004       |27291.7916889751       |16310.606607280319     |7804.12010066004       |27291.7916889751       |16310.606607280319     |\n",
      "|BOL |3163.34037019076|9978.99373941923|3163.34037019076       |9978.99373941923       |6351.952236764365      |3163.34037019076       |9978.99373941923       |6351.952236764365      |\n",
      "+----+----------------+----------------+-----------------------+-----------------------+-----------------------+-----------------------+-----------------------+-----------------------+\n",
      "only showing top 20 rows\n",
      "\n"
     ]
    }
   ],
   "source": [
    "from pyspark.sql import functions as f\n",
    "\n",
    "data.filter((col('gdp_ppp_mean') >= 1) & (col('gdp_ppp_mean') <= 5000000))\\\n",
    "    .groupBy(\"iso3\") \\\n",
    "    .agg(f.min(\"gdp_ppp_mean\").alias(\"from\"), \n",
    "         f.max(\"gdp_ppp_mean\").alias(\"to\"), \n",
    "         \n",
    "         f.min(\"gdp_ppp_mean\").alias(\"minimum the_total_upper\"),\n",
    "         f.max(\"gdp_ppp_mean\").alias(\"maximum the_total_upper\"), \n",
    "         f.avg(\"gdp_ppp_mean\").alias(\"average the_total_upper\"), \n",
    "\n",
    "         f.min(\"gdp_ppp_mean\").alias(\"minimum the_total_lower\"),\n",
    "         f.max(\"gdp_ppp_mean\").alias(\"maximum the_total_lower\"), \n",
    "         f.avg(\"gdp_ppp_mean\").alias(\"average the_total_lower\"), \n",
    "\n",
    "      ).show(truncate=False)"
   ]
  },
  {
   "cell_type": "markdown",
   "id": "18f1b342-c629-4683-8e61-b84b3958e63e",
   "metadata": {},
   "source": [
    "## Wizualizacja danych\n",
    "Do wizualizacji danych wykorzystamy biblioteki `matplotlib` i `pandas`. Metoda `toPandas()` umożliwia nam przekształcenie danych w ramkę danych pandas, której używamy, gdy wywołujemy metodę renderowania `plot()`. Poniższy kod pokazuje, jak wyświetlić histogram, który wyświetla średnie confirmed, people_vaccinated, economic_support_index dla każdej iso_currency."
   ]
  },
  {
   "cell_type": "code",
   "execution_count": 57,
   "id": "5490935b-bc76-43b0-9980-4e00d2955bf9",
   "metadata": {},
   "outputs": [
    {
     "data": {
      "image/png": "[encoded data removed]",
      "text/plain": [
       "<Figure size 864x432 with 1 Axes>"
      ]
     },
     "metadata": {
      "needs_background": "light"
     },
     "output_type": "display_data"
    }
   ],
   "source": [
    "from matplotlib import pyplot as plt\n",
    "\n",
    "currency_df =  data.select(['iso3', \n",
    "                       'gdp_ppp_lower', \n",
    "                       'gdp_ppp_upper', \n",
    "                       ]\n",
    "                     )\\\n",
    "                     .groupBy('iso3')\\\n",
    "                     .mean()\\\n",
    "                     .toPandas()\n",
    "\n",
    "ind = list(range(12))\n",
    "ind.pop(6)\n",
    "\n",
    "currency_df.iloc[ind ,:].plot(kind='bar', x='iso3', y=currency_df.columns.tolist()[1:], \n",
    "                         figsize=(12, 6), ylabel='People', xlabel='iso the_total')\n",
    "plt.show()"
   ]
  },
  {
   "cell_type": "markdown",
   "id": "ed56be24-7149-4fb8-886f-0ffdd5a8cbc8",
   "metadata": {},
   "source": [
    "## Zapisywanie/zapisywanie danych do pliku\n",
    "Metoda `write.save()` służy do zapisywania danych w różnych formatach, takich jak CSV, JSVON, Parquet i inne. Przyjrzyjmy się, jak zapisywać dane do plików o różnych formatach. Za pomocą metody `select()` możemy zapisać zarówno wszystkie wiersze, jak i tylko wybrane."
   ]
  },
  {
   "cell_type": "code",
   "execution_count": 58,
   "id": "48d4f0ee-5bf0-4954-b882-b261bd012fcd",
   "metadata": {},
   "outputs": [],
   "source": [
    "# CSV\n",
    "data.write.csv('dataset.csv')\n",
    "\n",
    "# JSON\n",
    "data.write.save('dataset.json', format='json')\n",
    "\n",
    "# Parquet\n",
    "data.write.save('dataset.parquet', format='parquet')\n",
    "\n",
    "# Zapisywanie wybranych kolumn\n",
    "\n",
    "# CSV\n",
    "data.select(['location_name','iso3','year','gdp_ppp_mean','gdp_ppp_lower','gdp_ppp_upper'])\\\n",
    "    .write.csv('dataset_1.csv')\n",
    "\n",
    "# JSON\n",
    "data.select(['location_name','iso3','year','gdp_ppp_mean','gdp_ppp_lower','gdp_ppp_upper'])\\\n",
    "    .write.save('dataset_1.json', format='json')\n",
    "\n",
    "# Parquet\n",
    "data.select(['location_name','iso3','year','gdp_ppp_mean','gdp_ppp_lower','gdp_ppp_upper'])\\\n",
    "    .write.save('dataset_1.parquet', format='parquet')"
   ]
  }
 ],
 "metadata": {
  "kernelspec": {
   "display_name": "Python 3 (ipykernel)",
   "language": "python",
   "name": "python3"
  },
  "language_info": {
   "codemirror_mode": {
    "name": "ipython",
    "version": 3
   },
   "file_extension": ".py",
   "mimetype": "text/x-python",
   "name": "python",
   "nbconvert_exporter": "python",
   "pygments_lexer": "ipython3",
   "version": "3.9.12"
  }
 },
 "nbformat": 4,
 "nbformat_minor": 5
}
